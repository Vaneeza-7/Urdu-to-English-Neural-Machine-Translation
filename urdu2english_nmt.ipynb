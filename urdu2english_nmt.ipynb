{
  "nbformat": 4,
  "nbformat_minor": 0,
  "metadata": {
    "colab": {
      "provenance": [],
      "gpuType": "T4"
    },
    "kernelspec": {
      "name": "python3",
      "display_name": "Python 3"
    },
    "language_info": {
      "name": "python"
    },
    "accelerator": "GPU"
  },
  "cells": [
    {
      "cell_type": "code",
      "execution_count": null,
      "metadata": {
        "id": "fGC83Hubz0Fg"
      },
      "outputs": [],
      "source": [
        "def load_file(filepath):\n",
        "\n",
        "    with open(filepath, 'r', encoding='utf-8') as file:\n",
        "        sentences = file.readlines()\n",
        "    return [sentence.strip() for sentence in sentences]\n",
        "\n",
        "# Load all files\n",
        "eng_dev = load_file('/content/eng_Latn.dev')\n",
        "eng_devtest = load_file('/content/eng_Latn.devtest')\n",
        "urdu_dev = load_file('/content/urd_Arab.dev')\n",
        "urdu_devtest = load_file('/content/urd_Arab.devtest')"
      ]
    },
    {
      "cell_type": "markdown",
      "source": [
        "# Data Preprocessing and Tensor Creation:\n",
        "Following steps were followed:\n",
        "- Concatenation of .dev and .devtest files for both urdu and english.\n",
        "- Preprocessing: preserve abbreviations, remove extra spaces, and add spaces around punctuation marks.\n",
        "- Tokenization\n",
        "- Vocabulary creation\n",
        "- Converting sentences (tokenized) to tensors\n",
        "- Shuffling and splitting into validation, test, and training sets."
      ],
      "metadata": {
        "id": "oPgLApItIAP0"
      }
    },
    {
      "cell_type": "code",
      "source": [
        "# Combine sentences from dev and devtest for English and Urdu\n",
        "english_sentences = eng_dev + eng_devtest\n",
        "urdu_sentences = urdu_dev + urdu_devtest\n",
        "\n",
        "assert len(english_sentences) == len(urdu_sentences), \"Mismatch in sentence alignment!\"\n",
        "\n",
        "print(f\"Total aligned sentences: {len(english_sentences)}\")\n"
      ],
      "metadata": {
        "colab": {
          "base_uri": "https://localhost:8080/"
        },
        "id": "Lo9bgr7a1hci",
        "outputId": "e9f47387-d58a-44b0-8534-af7739103560"
      },
      "execution_count": null,
      "outputs": [
        {
          "output_type": "stream",
          "name": "stdout",
          "text": [
            "Total aligned sentences: 2009\n"
          ]
        }
      ]
    },
    {
      "cell_type": "code",
      "source": [
        "import re\n",
        "def preprocess_text(sentence, lang=\"urdu\"):\n",
        "    if lang == \"english\":\n",
        "        # Preserve abbreviations like U.S., U.K., etc.\n",
        "        abbreviation_pattern = r'\\b([A-Za-z])\\.([A-Za-z])\\.'\n",
        "        sentence = re.sub(abbreviation_pattern, r'\\1.\\2.', sentence)\n",
        "\n",
        "        # Add space around other punctuation\n",
        "        sentence = re.sub(r\"([!?])\", r\" \\1 \", sentence)  # Exclude periods in abbreviations\n",
        "        sentence = re.sub(r\"(?<!\\w)\\.(?!\\w)\", r\" . \", sentence)\n",
        "        # convert to lowercase\n",
        "        sentence = sentence.lower()\n",
        "\n",
        "    elif lang == \"urdu\":\n",
        "        # Add space around Urdu full stop\n",
        "        sentence = re.sub(r\"۔\", \" ۔ \", sentence)\n",
        "\n",
        "    # Remove extra spaces\n",
        "    sentence = re.sub(r\"\\s+\", \" \", sentence).strip()\n",
        "    return sentence\n",
        "\n",
        "english_sentences = [preprocess_text(sentence, lang=\"english\") for sentence in english_sentences]\n",
        "urdu_sentences = [preprocess_text(sentence, lang=\"urdu\") for sentence in urdu_sentences]"
      ],
      "metadata": {
        "id": "z5sAaVE755Yc"
      },
      "execution_count": null,
      "outputs": []
    },
    {
      "cell_type": "code",
      "source": [
        "#tokenize\n",
        "import nltk\n",
        "nltk.download('punkt')\n",
        "nltk.download('punkt_tab')\n",
        "\n",
        "english_tokenized = [nltk.word_tokenize(sentence) for sentence in english_sentences]\n",
        "urdu_tokenized = [nltk.word_tokenize(sentence) for sentence in urdu_sentences]\n",
        "\n",
        "print(f\"Tokenized English sentences: {english_tokenized[:5]}\")\n",
        "print(f\"Tokenized Urdu sentences: {urdu_tokenized[:5]}\")"
      ],
      "metadata": {
        "colab": {
          "base_uri": "https://localhost:8080/"
        },
        "id": "N-WzMBuU1wAj",
        "outputId": "fbdb2dbd-ba28-4731-e112-2a0c4e17a321"
      },
      "execution_count": null,
      "outputs": [
        {
          "output_type": "stream",
          "name": "stderr",
          "text": [
            "[nltk_data] Downloading package punkt to /root/nltk_data...\n",
            "[nltk_data]   Unzipping tokenizers/punkt.zip.\n",
            "[nltk_data] Downloading package punkt_tab to /root/nltk_data...\n",
            "[nltk_data]   Unzipping tokenizers/punkt_tab.zip.\n"
          ]
        },
        {
          "output_type": "stream",
          "name": "stdout",
          "text": [
            "Tokenized English sentences: [['on', 'monday', ',', 'scientists', 'from', 'the', 'stanford', 'university', 'school', 'of', 'medicine', 'announced', 'the', 'invention', 'of', 'a', 'new', 'diagnostic', 'tool', 'that', 'can', 'sort', 'cells', 'by', 'type', ':', 'a', 'tiny', 'printable', 'chip', 'that', 'can', 'be', 'manufactured', 'using', 'standard', 'inkjet', 'printers', 'for', 'possibly', 'about', 'one', 'u.s.', 'cent', 'each', '.'], ['lead', 'researchers', 'say', 'this', 'may', 'bring', 'early', 'detection', 'of', 'cancer', ',', 'tuberculosis', ',', 'hiv', 'and', 'malaria', 'to', 'patients', 'in', 'low-income', 'countries', ',', 'where', 'the', 'survival', 'rates', 'for', 'illnesses', 'such', 'as', 'breast', 'cancer', 'can', 'be', 'half', 'those', 'of', 'richer', 'countries', '.'], ['the', 'jas', '39c', 'gripen', 'crashed', 'onto', 'a', 'runway', 'at', 'around', '9:30', 'am', 'local', 'time', '(', '0230', 'utc', ')', 'and', 'exploded', ',', 'closing', 'the', 'airport', 'to', 'commercial', 'flights', '.'], ['the', 'pilot', 'was', 'identified', 'as', 'squadron', 'leader', 'dilokrit', 'pattavee', '.'], ['local', 'media', 'reports', 'an', 'airport', 'fire', 'vehicle', 'rolled', 'over', 'while', 'responding', '.']]\n",
            "Tokenized Urdu sentences: [['پیر', 'کے', 'روز،', 'سٹینفورڈ', 'اسکول', 'آف', 'میڈیسن', 'کے', 'سائنسدانوں', 'نے', 'ایک', 'جدید', 'تشخیصی', 'آلہ', 'دریافت', 'کرنے', 'کا', 'اعلان', 'کیا', 'ہے', 'جو', 'خلیوں', 'کو', 'اس', 'کی', 'اقسام', 'کے', 'لحاظ', 'سے', 'ترتیب', 'دے', 'سکتا', 'ہے', ':', 'یہ', 'ایک', 'چھوٹی', 'سی', 'پرنٹیبل', 'چپ', 'ہے', 'جو', 'غالباً', 'ایک', 'امریکی', 'سنٹ', 'میں', 'معیاری', 'انک', 'جیٹ', 'پرنٹرز', 'کا', 'استعمال', 'کر', 'کے', 'تیار', 'کی', 'جا', 'سکتی', 'ہے-'], ['سرکردہ', 'محققین', 'کہتے', 'ہیں', 'کہ', 'اس', 'سے', 'کم', 'آمدنی', 'والے', 'ممالک', 'کے', 'مریضوں', 'میں', 'کینسر،', 'تپ', 'و', 'دق،', 'ایچ', 'آئی', 'وی', 'اور', 'ملیریا', 'کا', 'جلد', 'پتہ', 'چل', 'سکتا', 'ہے،', 'جہاں', 'چھاتی', 'کے', 'کینسر', 'جیسی', 'بیماریوں', 'سے', 'بچنے', 'کی', 'شرح', 'امیر', 'ممالک', 'کی', 'مقابلے', 'میں', 'نصف', 'ہو', 'سکتی', 'ہے', '۔'], ['مقامی', 'وقت', 'کے', 'مطابق', 'تقریبا', 'صبح', '9:30', 'بجے', '(', '0230', 'UTC', ')', '39C', 'JASگریپین', 'رن', 'وے', 'پر', 'ٹکرا', 'کر', 'دھماکے', 'کے', 'ساتھ', 'پھٹ', 'کر', 'تباہ', 'ہو', 'گیا،', 'جس', 'کے', 'باعث', 'ہوائی', 'اڈے', 'کی', 'تجارتی', 'پروازیں', 'بند', 'کرنی', 'پڑیں-'], ['پائلٹ', 'کو', 'اسکواڈرن', 'لیڈر', 'ڈیلوکرٹ', 'پٹاوی', 'کے', 'نام', 'سے', 'شناخت', 'کیا', 'گیا', '۔'], ['مقامی', 'میڈیا', 'نے', 'بتایا', 'کہ', 'ہوائی', 'اڈے', 'کی', 'ایک', 'آگ', 'بھجانے', 'والی', 'گاڑی', 'کاروائی', 'کرتے', 'وقت', 'الٹ', 'گئی', '۔']]\n"
          ]
        }
      ]
    },
    {
      "cell_type": "markdown",
      "source": [
        "# Word2Vec"
      ],
      "metadata": {
        "id": "X7pqYLL8R-vx"
      }
    },
    {
      "cell_type": "code",
      "source": [
        "from gensim.models import Word2Vec\n",
        "\n",
        "# Word2Vec for English\n",
        "english_w2v_model = Word2Vec(sentences=english_tokenized, vector_size=300, window=5, min_count=1, workers=4)\n",
        "\n",
        "# Word2Vec for Urdu\n",
        "urdu_w2v_model = Word2Vec(sentences=urdu_tokenized, vector_size=300, window=5, min_count=1, workers=4)\n",
        "\n",
        "english_w2v_model.save(\"english_word2vec.model\")\n",
        "urdu_w2v_model.save(\"urdu_word2vec.model\")"
      ],
      "metadata": {
        "id": "f1ePgh27R9u3"
      },
      "execution_count": null,
      "outputs": []
    },
    {
      "cell_type": "code",
      "source": [
        "import numpy as np\n",
        "def build_vocab_with_embeddings(tokenized_sentences, w2v_model, embedding_dim):\n",
        "    vocab = {'<PAD>': 0, '<SOS>': 1, '<EOS>': 2, '<UNK>': 3}\n",
        "    index = len(vocab)\n",
        "    embeddings = [np.zeros(embedding_dim),  # For <PAD>\n",
        "                  np.random.uniform(-0.1, 0.1, embedding_dim),  # For <SOS>\n",
        "                  np.random.uniform(-0.1, 0.1, embedding_dim),  # For <EOS>\n",
        "                  np.random.uniform(-0.1, 0.1, embedding_dim)]  # For <UNK>\n",
        "\n",
        "    for sentence in tokenized_sentences:\n",
        "        for word in sentence:\n",
        "            if word not in vocab:\n",
        "                vocab[word] = index\n",
        "                if word in w2v_model.wv:\n",
        "                    embeddings.append(w2v_model.wv[word])\n",
        "                else:\n",
        "                    embeddings.append(np.random.uniform(-0.1, 0.1, embedding_dim))  # For OOV words\n",
        "                index += 1\n",
        "\n",
        "    return vocab, np.array(embeddings)\n",
        "\n",
        "english_vocab, english_embeddings = build_vocab_with_embeddings(english_tokenized, english_w2v_model, 300)\n",
        "urdu_vocab, urdu_embeddings = build_vocab_with_embeddings(urdu_tokenized, urdu_w2v_model, 300)"
      ],
      "metadata": {
        "collapsed": true,
        "id": "NoRHnJuySTdL"
      },
      "execution_count": null,
      "outputs": []
    },
    {
      "cell_type": "code",
      "source": [
        "print(f\"English vocab size: {len(english_vocab)}\")\n",
        "print(f\"Urdu vocab size: {len(urdu_vocab)}\")"
      ],
      "metadata": {
        "colab": {
          "base_uri": "https://localhost:8080/"
        },
        "id": "buNwxDnZT88X",
        "outputId": "0b629cab-779b-441c-d721-11c7c5bf8fca"
      },
      "execution_count": null,
      "outputs": [
        {
          "output_type": "stream",
          "name": "stdout",
          "text": [
            "English vocab size: 8651\n",
            "Urdu vocab size: 9555\n"
          ]
        }
      ]
    },
    {
      "cell_type": "code",
      "source": [
        "# def build_vocab(tokenized_sentences):\n",
        "#     vocab = {'<PAD>': 0, '<SOS>': 1, '<EOS>': 2, '<UNK>': 3}\n",
        "#     index = 4\n",
        "#     for sentence in tokenized_sentences:\n",
        "#         for word in sentence:\n",
        "#             if word not in vocab:\n",
        "#                 vocab[word] = index\n",
        "#                 index += 1\n",
        "#     return vocab\n",
        "\n",
        "# english_vocab = build_vocab(english_tokenized)\n",
        "# urdu_vocab = build_vocab(urdu_tokenized)\n",
        "\n",
        "# print(\"English vocab size:\", len(english_vocab))\n",
        "# print(\"Urdu vocab size:\", len(urdu_vocab))"
      ],
      "metadata": {
        "colab": {
          "base_uri": "https://localhost:8080/"
        },
        "id": "VHH9zA732Y6D",
        "outputId": "d2778399-411c-4a88-b8be-03a2ddda815b"
      },
      "execution_count": null,
      "outputs": [
        {
          "output_type": "stream",
          "name": "stdout",
          "text": [
            "English vocab size: 8651\n",
            "Urdu vocab size: 9555\n"
          ]
        }
      ]
    },
    {
      "cell_type": "code",
      "source": [
        "assert '<PAD>' in english_vocab and '<PAD>' in urdu_vocab, \"Missing <PAD> in vocab!\"\n",
        "assert '<SOS>' in english_vocab and '<SOS>' in urdu_vocab, \"Missing <SOS> in vocab!\"\n",
        "assert '<EOS>' in english_vocab and '<EOS>' in urdu_vocab, \"Missing <EOS> in vocab!\"\n",
        "assert '<UNK>' in english_vocab and '<UNK>' in urdu_vocab, \"Missing <UNK> in vocab!\"\n",
        "\n",
        "print(\"English and Urdu vocabularies contain required tokens.\")"
      ],
      "metadata": {
        "colab": {
          "base_uri": "https://localhost:8080/"
        },
        "id": "eyzF1pxzvSEN",
        "outputId": "a58d7656-6ab9-41c1-cfad-d84215abe94d"
      },
      "execution_count": null,
      "outputs": [
        {
          "output_type": "stream",
          "name": "stdout",
          "text": [
            "English and Urdu vocabularies contain required tokens.\n"
          ]
        }
      ]
    },
    {
      "cell_type": "code",
      "source": [
        "import torch\n",
        "#convert sentences to tensors\n",
        "\n",
        "def sentences_to_tensor(tokenized_sentences, vocab, max_length=50):\n",
        "    tensors = []\n",
        "    for sentence in tokenized_sentences:\n",
        "        tokens = [vocab.get(word, vocab['<UNK>']) for word in sentence]\n",
        "        # Add <SOS> and <EOS>\n",
        "        tokens = [vocab['<SOS>']] + tokens[:max_length-2] + [vocab['<EOS>']]\n",
        "        # Pad to max_length\n",
        "        tokens += [vocab['<PAD>']] * (max_length - len(tokens))\n",
        "        tensors.append(tokens)\n",
        "    return torch.tensor(tensors, dtype=torch.long)\n",
        "\n",
        "max_length = 50\n",
        "english_tensors = sentences_to_tensor(english_tokenized, english_vocab, max_length)\n",
        "urdu_tensors = sentences_to_tensor(urdu_tokenized, urdu_vocab, max_length)\n",
        "\n",
        "print(\"English tensor shape:\", english_tensors.shape)\n",
        "print(\"Urdu tensor shape:\", urdu_tensors.shape)"
      ],
      "metadata": {
        "colab": {
          "base_uri": "https://localhost:8080/"
        },
        "id": "ipVAyxpD87nt",
        "outputId": "43d48edb-6e73-4036-ba01-73f04f109100"
      },
      "execution_count": null,
      "outputs": [
        {
          "output_type": "stream",
          "name": "stdout",
          "text": [
            "English tensor shape: torch.Size([2009, 50])\n",
            "Urdu tensor shape: torch.Size([2009, 50])\n"
          ]
        }
      ]
    },
    {
      "cell_type": "code",
      "source": [
        "assert torch.max(english_tensors) < len(english_vocab), \"English tensors contain out-of-range indices!\"\n",
        "assert torch.max(urdu_tensors) < len(urdu_vocab), \"Urdu tensors contain out-of-range indices!\"\n",
        "assert torch.min(english_tensors) >= 0, \"English tensors contain negative indices!\"\n",
        "assert torch.min(urdu_tensors) >= 0, \"Urdu tensors contain negative indices!\"\n",
        "\n",
        "print(\"English and Urdu tensors contain valid indices.\")"
      ],
      "metadata": {
        "colab": {
          "base_uri": "https://localhost:8080/"
        },
        "id": "TbE4N1r8vZX9",
        "outputId": "b812db2e-3643-47d6-d473-97d5e2ae9ed1"
      },
      "execution_count": null,
      "outputs": [
        {
          "output_type": "stream",
          "name": "stdout",
          "text": [
            "English and Urdu tensors contain valid indices.\n"
          ]
        }
      ]
    },
    {
      "cell_type": "code",
      "source": [
        "from sklearn.model_selection import train_test_split\n",
        "\n",
        "# Split into train, validation, and test sets\n",
        "train_eng, test_eng, train_urdu, test_urdu = train_test_split(\n",
        "    english_tensors, urdu_tensors, test_size=0.3, random_state=42\n",
        ")\n",
        "val_eng, test_eng, val_urdu, test_urdu = train_test_split(\n",
        "    test_eng, test_urdu, test_size=0.5, random_state=42\n",
        ")\n",
        "\n",
        "print(f\"Training set: {len(train_eng)} samples\")\n",
        "print(f\"Validation set: {len(val_eng)} samples\")\n",
        "print(f\"Test set: {len(test_eng)} samples\")"
      ],
      "metadata": {
        "colab": {
          "base_uri": "https://localhost:8080/"
        },
        "id": "-GEYw_91-ZZU",
        "outputId": "c57c36b6-5900-4478-d7be-853026e80511"
      },
      "execution_count": null,
      "outputs": [
        {
          "output_type": "stream",
          "name": "stdout",
          "text": [
            "Training set: 1406 samples\n",
            "Validation set: 301 samples\n",
            "Test set: 302 samples\n"
          ]
        }
      ]
    },
    {
      "cell_type": "code",
      "source": [
        "print(f\"Training set english first 5 samples: {train_eng[:5]}\")\n",
        "print(f\"Training set urdu first 5 samples: {train_urdu[:5]}\")"
      ],
      "metadata": {
        "colab": {
          "base_uri": "https://localhost:8080/"
        },
        "id": "gRfM9dTvNBSQ",
        "outputId": "7e2057b4-0275-41cc-9271-3ea58b6f8e73"
      },
      "execution_count": null,
      "outputs": [
        {
          "output_type": "stream",
          "name": "stdout",
          "text": [
            "Training set english first 5 samples: tensor([[   1,   43,   13,  310, 3859, 3865,  348, 3866, 3867,   37, 1601, 2050,\n",
            "         1302,   44,    2,    0,    0,    0,    0,    0,    0,    0,    0,    0,\n",
            "            0,    0,    0,    0,    0,    0,    0,    0,    0,    0,    0,    0,\n",
            "            0,    0,    0,    0,    0,    0,    0,    0,    0,    0,    0,    0,\n",
            "            0,    0],\n",
            "        [   1,  432,   17, 1613, 2908, 3230,  853, 3786,    6,  701,   58,   17,\n",
            "         3787, 3788, 3789,    6,   13,   17,  627, 3790, 3791,   25, 3792,    6,\n",
            "         3793, 2464,   58, 2843, 3794,    9, 2819, 2065,  612, 2172, 3795,   44,\n",
            "            2,    0,    0,    0,    0,    0,    0,    0,    0,    0,    0,    0,\n",
            "            0,    0],\n",
            "        [   1,  773, 1731,  505,    9, 5740, 5695,   60, 5716, 1964,   56, 5741,\n",
            "           21,    9, 2209, 1327, 5742,  580, 2141,   58, 5619, 5743,   44,    2,\n",
            "            0,    0,    0,    0,    0,    0,    0,    0,    0,    0,    0,    0,\n",
            "            0,    0,    0,    0,    0,    0,    0,    0,    0,    0,    0,    0,\n",
            "            0,    0],\n",
            "        [   1,  142, 1058, 6117,    9, 6118,  138, 3365,    6,    9, 6118, 6119,\n",
            "            9, 6116,  662,    9, 6120, 6121,   56, 1460,    9, 6107, 5435,   44,\n",
            "            2,    0,    0,    0,    0,    0,    0,    0,    0,    0,    0,    0,\n",
            "            0,    0,    0,    0,    0,    0,    0,    0,    0,    0,    0,    0,\n",
            "            0,    0],\n",
            "        [   1,  501, 3662,   17, 3983, 6805,  107,   17, 1942, 3713, 1494,   58,\n",
            "          732,   17,  553,  348, 2835,   60, 2192,   44,    2,    0,    0,    0,\n",
            "            0,    0,    0,    0,    0,    0,    0,    0,    0,    0,    0,    0,\n",
            "            0,    0,    0,    0,    0,    0,    0,    0,    0,    0,    0,    0,\n",
            "            0,    0]])\n",
            "Training set urdu first 5 samples: tensor([[   1,  261,   43,   30,  557,   13, 1525, 4329, 1927,  423, 4330, 1729,\n",
            "         2342, 1005,  434, 1783,   87,  575,   57,   88,    2,    0,    0,    0,\n",
            "            0,    0,    0,    0,    0,    0,    0,    0,    0,    0,    0,    0,\n",
            "            0,    0,    0,    0,    0,    0,    0,    0,    0,    0,    0,    0,\n",
            "            0,    0],\n",
            "        [   1, 4234,    5, 3706,  285, 4235,    5, 2214,   35,  269, 2894, 1474,\n",
            "           22,   23,  562, 4236,  111,    5, 3191, 4237,    5, 1440,  550,  104,\n",
            "          279,   76,  559, 1145, 1476,    5, 3191, 4238,    5, 2410, 4239, 3776,\n",
            "           88,  775, 4240, 4241,   88,    2,    0,    0,    0,    0,    0,    0,\n",
            "            0,    0],\n",
            "        [   1,  897,   12, 2603,  671, 2255,   43, 6412, 3724,    5, 1027,   27,\n",
            "         2603, 6413,  175,   27,   71,  929,   21,   58, 6201,  545,   69,   25,\n",
            "          514,  898, 6414,   25, 6415,   27, 6416, 6417, 3724,  353, 6418,  577,\n",
            "         4669,  569,   88,    2,    0,    0,    0,    0,    0,    0,    0,    0,\n",
            "            0,    0],\n",
            "        [   1, 2024,    5, 1088, 6799,   27,  126,   27, 1102,   49, 1710,    5,\n",
            "          151, 1088, 6799, 2511, 6800,   43, 6801, 6529,   22,   71, 6791, 6802,\n",
            "          104,  678,  322,   22,   88,    2,    0,    0,    0,    0,    0,    0,\n",
            "            0,    0,    0,    0,    0,    0,    0,    0,    0,    0,    0,    0,\n",
            "            0,    0],\n",
            "        [   1, 2466,   43, 6565,  423, 3181,   25, 6716,    5,  154, 2227,  192,\n",
            "         4904,    5, 7547, 7542,   27,  204, 1078,   22,   88,    2,    0,    0,\n",
            "            0,    0,    0,    0,    0,    0,    0,    0,    0,    0,    0,    0,\n",
            "            0,    0,    0,    0,    0,    0,    0,    0,    0,    0,    0,    0,\n",
            "            0,    0]])\n"
          ]
        }
      ]
    },
    {
      "cell_type": "code",
      "source": [
        "# Ensure split tensors are valid\n",
        "for split_name, split_data in zip(\n",
        "    [\"train_eng\", \"val_eng\", \"test_eng\", \"train_urdu\", \"val_urdu\", \"test_urdu\"],\n",
        "    [train_eng, val_eng, test_eng, train_urdu, val_urdu, test_urdu]\n",
        "):\n",
        "    assert torch.max(split_data) < len(english_vocab) if \"eng\" in split_name else len(urdu_vocab), \\\n",
        "        f\"{split_name} contains out-of-range indices!\"\n",
        "    assert torch.min(split_data) >= 0, f\"{split_name} contains negative indices!\"\n",
        "    print(f\"{split_name} indices are valid.\")\n"
      ],
      "metadata": {
        "colab": {
          "base_uri": "https://localhost:8080/"
        },
        "id": "BXCP40tavjXV",
        "outputId": "592d1cf6-b140-4d36-e6e0-0c37497e10c2"
      },
      "execution_count": null,
      "outputs": [
        {
          "output_type": "stream",
          "name": "stdout",
          "text": [
            "train_eng indices are valid.\n",
            "val_eng indices are valid.\n",
            "test_eng indices are valid.\n",
            "train_urdu indices are valid.\n",
            "val_urdu indices are valid.\n",
            "test_urdu indices are valid.\n"
          ]
        }
      ]
    },
    {
      "cell_type": "code",
      "source": [
        "print(\"English vocab size:\", len(english_vocab))\n",
        "print(\"Urdu vocab size:\", len(urdu_vocab))\n",
        "print(\"Max English token index:\", english_tensors.max().item())\n",
        "print(\"Max Urdu token index:\", urdu_tensors.max().item())\n"
      ],
      "metadata": {
        "colab": {
          "base_uri": "https://localhost:8080/"
        },
        "id": "SBAyNs5s8gFU",
        "outputId": "430ab700-6f2e-4767-a98b-310ea3fdbfec"
      },
      "execution_count": null,
      "outputs": [
        {
          "output_type": "stream",
          "name": "stdout",
          "text": [
            "English vocab size: 8651\n",
            "Urdu vocab size: 9555\n",
            "Max English token index: 8650\n",
            "Max Urdu token index: 9554\n"
          ]
        }
      ]
    },
    {
      "cell_type": "code",
      "source": [
        "import torch.nn as nn\n",
        "urdu_embedding_layer = nn.Embedding.from_pretrained(torch.tensor(urdu_embeddings, dtype=torch.float32), freeze=False)\n",
        "assert urdu_embedding_layer.num_embeddings == len(urdu_vocab), \"Mismatch in vocabulary size and embedding layer.\""
      ],
      "metadata": {
        "collapsed": true,
        "id": "8dPZS5ZZ87Fp"
      },
      "execution_count": null,
      "outputs": []
    },
    {
      "cell_type": "code",
      "source": [
        "print(f\"Number of embeddings: {english_embeddings.shape[0]}\")\n",
        "print(f\"Vocabulary size: {len(english_vocab)}\")\n"
      ],
      "metadata": {
        "colab": {
          "base_uri": "https://localhost:8080/"
        },
        "id": "q3fpM0GJ9KCY",
        "outputId": "bd616487-f951-4fd7-fe92-0f8c7a9af204"
      },
      "execution_count": null,
      "outputs": [
        {
          "output_type": "stream",
          "name": "stdout",
          "text": [
            "Number of embeddings: 8651\n",
            "Vocabulary size: 8651\n"
          ]
        }
      ]
    },
    {
      "cell_type": "markdown",
      "source": [
        "# LSTM Cell\n",
        "\n",
        "##Forward pass arguments:\n",
        "- x (torch.Tensor): Input tensor of shape (batch_size, input_size).\n",
        "- h_prev (torch.Tensor): Previous hidden state of shape (batch_size, hidden_size).\n",
        "- c_prev (torch.Tensor): Previous cell state of shape (batch_size, hidden_size).\n",
        "\n",
        "## Forward pass outputs:      \n",
        "- h_t (torch.Tensor): Current hidden state.\n",
        "- c_t (torch.Tensor): Current cell state."
      ],
      "metadata": {
        "id": "V4sjNNNdK1gL"
      }
    },
    {
      "cell_type": "code",
      "source": [
        "import torch\n",
        "import torch.nn as nn\n",
        "import torch.optim as optim\n",
        "\n",
        "class LSTMCell(nn.Module):\n",
        "    #constructor\n",
        "    def __init__(self, input_size, hidden_size):\n",
        "\n",
        "        super(LSTMCell, self).__init__()\n",
        "        print(\"LSTM cell with \" + str(input_size) + \" input size and \" + str(hidden_size) + \" hidden size\")\n",
        "        self.input_size = input_size\n",
        "        self.hidden_size = hidden_size\n",
        "\n",
        "        # Weights for gates and candidate cell\n",
        "        self.W_forget = nn.Linear(input_size + hidden_size, hidden_size)\n",
        "        self.W_input = nn.Linear(input_size + hidden_size, hidden_size)\n",
        "        self.W_candidate = nn.Linear(input_size + hidden_size, hidden_size)\n",
        "        self.W_output = nn.Linear(input_size + hidden_size, hidden_size)\n",
        "\n",
        "\n",
        "    # Forward pass\n",
        "    def forward(self, x, h_prev, c_prev):\n",
        "        # Concatenate input and hidden state\n",
        "        combined = torch.cat((x, h_prev), dim=1)  # Shape: (batch_size, input_size + hidden_size)\n",
        "\n",
        "        forget_gate = torch.sigmoid(self.W_forget(combined))\n",
        "        input_gate = torch.sigmoid(self.W_input(combined))\n",
        "        candidate_tilde = torch.tanh(self.W_candidate(combined))\n",
        "        cell_state = forget_gate * c_prev + input_gate * candidate_tilde\n",
        "        output_gate = torch.sigmoid(self.W_output(combined))\n",
        "        hidden_gate = output_gate * torch.tanh(cell_state)\n",
        "\n",
        "        # All have Shape: (batch_size, hidden_size)\n",
        "        return hidden_gate, cell_state"
      ],
      "metadata": {
        "id": "MVkZkfSqK0Va"
      },
      "execution_count": null,
      "outputs": []
    },
    {
      "cell_type": "markdown",
      "source": [
        "#Encoder of LSTM\n"
      ],
      "metadata": {
        "id": "Xy8V-XV6VW08"
      }
    },
    {
      "cell_type": "code",
      "source": [
        "class Encoder(nn.Module):\n",
        "    def __init__(self, embedding_layer, hidden_size):\n",
        "        super(Encoder, self).__init__()\n",
        "        self.hidden_size = hidden_size\n",
        "        self.embedding = embedding_layer\n",
        "        self.lstm_cell = LSTMCell(embedding_layer.embedding_dim, hidden_size)\n",
        "\n",
        "    def forward(self, x):\n",
        "        batch_size, seq_length = x.size()\n",
        "        hidden = torch.zeros(batch_size, self.hidden_size).to(x.device)\n",
        "        cell = torch.zeros(batch_size, self.hidden_size).to(x.device)\n",
        "\n",
        "        all_hidden_states = []\n",
        "        for t in range(seq_length):\n",
        "            x_t = self.embedding(x[:, t]) #word2vec embedding\n",
        "            hidden, cell = self.lstm_cell(x_t, hidden, cell)\n",
        "            all_hidden_states.append(hidden.unsqueeze(1))\n",
        "\n",
        "        all_hidden_states = torch.cat(all_hidden_states, dim=1)\n",
        "        return all_hidden_states, hidden, cell"
      ],
      "metadata": {
        "id": "9jWABQ7IRscG"
      },
      "execution_count": null,
      "outputs": []
    },
    {
      "cell_type": "markdown",
      "source": [
        "#Attention"
      ],
      "metadata": {
        "id": "QQD7fT4ERu0D"
      }
    },
    {
      "cell_type": "code",
      "source": [
        "class Attention(nn.Module):\n",
        "    def __init__(self, hidden_size):\n",
        "        super(Attention, self).__init__()\n",
        "        self.attention = nn.Linear(hidden_size * 2, hidden_size)\n",
        "        self.v = nn.Linear(hidden_size, 1, bias=False)\n",
        "\n",
        "    def forward(self, hidden, encoder_outputs):\n",
        "        # hidden: (batch_size, hidden_size)\n",
        "        # encoder_outputs: (batch_size, seq_length, hidden_size)\n",
        "\n",
        "        seq_length = encoder_outputs.size(1)\n",
        "        hidden = hidden.unsqueeze(1).repeat(1, seq_length, 1)\n",
        "        energy = torch.tanh(self.attention(torch.cat((hidden, encoder_outputs), dim=2)))\n",
        "        attention_weights = torch.softmax(self.v(energy).squeeze(2), dim=1)  # (batch_size, seq_length)\n",
        "\n",
        "        context = torch.bmm(attention_weights.unsqueeze(1), encoder_outputs)  # (batch_size, 1, hidden_size)\n",
        "        return context.squeeze(1), attention_weights"
      ],
      "metadata": {
        "id": "qEadnx3pRq7J"
      },
      "execution_count": null,
      "outputs": []
    },
    {
      "cell_type": "markdown",
      "source": [
        "# Decoder for LSTM Cell\n"
      ],
      "metadata": {
        "id": "17aUv0WBY1pP"
      }
    },
    {
      "cell_type": "code",
      "source": [
        "class Decoder(nn.Module):\n",
        "    def __init__(self, embedding_layer, hidden_size, output_size):\n",
        "        super(Decoder, self).__init__()\n",
        "        self.output_size = output_size\n",
        "        self.hidden_size = hidden_size\n",
        "        self.embedding = embedding_layer\n",
        "        self.attention = Attention(hidden_size)\n",
        "        self.lstm_cell = LSTMCell(embedding_layer.embedding_dim + hidden_size, hidden_size)\n",
        "        self.fc = nn.Linear(hidden_size, output_size)\n",
        "\n",
        "    def forward(self, x, h, c, encoder_outputs):\n",
        "\n",
        "      x = self.embedding(x).squeeze(1)  # (batch_size, embedding_dim)\n",
        "      context, attention_weights = self.attention(h, encoder_outputs)\n",
        "      x_context = torch.cat((x, context), dim=1)\n",
        "      h, c = self.lstm_cell(x_context, h, c)\n",
        "      output = self.fc(h)  # (batch_size, output_size)\n",
        "      return output, h, c, attention_weights"
      ],
      "metadata": {
        "id": "aHeDRLMbWLRb"
      },
      "execution_count": null,
      "outputs": []
    },
    {
      "cell_type": "markdown",
      "source": [
        "# Seq2Seq Model"
      ],
      "metadata": {
        "id": "uIEUn-ndZNAH"
      }
    },
    {
      "cell_type": "code",
      "source": [
        "class Seq2Seq(nn.Module):\n",
        "    def __init__(self, encoder, decoder):\n",
        "        super(Seq2Seq, self).__init__()\n",
        "        self.encoder = encoder\n",
        "        self.decoder = decoder\n",
        "\n",
        "    def forward(self, src, tgt, teacher_forcing_ratio=0.5):\n",
        "        encoder_outputs, hidden, cell = self.encoder(src)\n",
        "\n",
        "        batch_size, tgt_seq_length = tgt.size()\n",
        "        outputs = torch.zeros(batch_size, tgt_seq_length, self.decoder.output_size).to(src.device)\n",
        "\n",
        "        decoder_input = tgt[:, 0].unsqueeze(1)  # Start with <SOS>\n",
        "        for t in range(1, tgt_seq_length):\n",
        "            output, hidden, cell, _ = self.decoder(decoder_input, hidden, cell, encoder_outputs)\n",
        "            outputs[:, t, :] = output\n",
        "\n",
        "            # Decide to use teacher forcing\n",
        "            teacher_force = torch.rand(1).item() < teacher_forcing_ratio\n",
        "            top1 = output.argmax(1).unsqueeze(1)  # Predicted word\n",
        "            decoder_input = tgt[:, t].unsqueeze(1) if teacher_force else top1\n",
        "\n",
        "        return outputs"
      ],
      "metadata": {
        "id": "lgN7MjycZGwc"
      },
      "execution_count": null,
      "outputs": []
    },
    {
      "cell_type": "markdown",
      "source": [
        "# Training"
      ],
      "metadata": {
        "id": "cj8JPnZJaVWl"
      }
    },
    {
      "cell_type": "code",
      "source": [
        "import torch\n",
        "import torch.nn as nn\n",
        "import torch.optim as optim\n",
        "from torch.utils.data import DataLoader, TensorDataset\n",
        "import os\n",
        "os.environ['CUDA_LAUNCH_BLOCKING'] = '1'\n",
        "\n",
        "#Initialize embedding layers from word2vec pretrained\n",
        "english_embedding_layer = nn.Embedding.from_pretrained(torch.tensor(english_embeddings, dtype=torch.float32), freeze=False)\n",
        "urdu_embedding_layer = nn.Embedding.from_pretrained(torch.tensor(urdu_embeddings, dtype=torch.float32), freeze=False)\n",
        "\n",
        "hidden_size = 256\n",
        "BATCH_SIZE = 32\n",
        "device = torch.device(\"cuda\" if torch.cuda.is_available() else \"cpu\")\n",
        "print(f\"Using device: {device}\")\n",
        "\n",
        "# Create DataLoader\n",
        "dataset = TensorDataset(train_urdu, train_eng)\n",
        "dataloader = DataLoader(dataset, batch_size=BATCH_SIZE, shuffle=True)\n",
        "\n",
        "# urdu to english nmt\n",
        "encoder = Encoder(urdu_embedding_layer, hidden_size)\n",
        "decoder = Decoder(english_embedding_layer, hidden_size, len(english_vocab))\n",
        "model = Seq2Seq(encoder, decoder).to(device)\n",
        "\n",
        "#Loss function\n",
        "criterion = nn.CrossEntropyLoss(ignore_index=english_vocab[\"<PAD>\"]) #ignore <PAD>\n",
        "optimizer = optim.Adam(model.parameters(), lr=0.001)\n",
        "\n",
        "#print src and target from dataloader\n",
        "for src, tgt in dataloader:\n",
        "  print(f\"src shape: {src.shape}, max index: {torch.max(src)}, min index: {torch.min(src)}\")\n",
        "  print(f\"tgt shape: {tgt.shape}, max index: {torch.max(tgt)}, min index: {torch.min(tgt)}\")\n",
        "  break\n",
        "\n",
        "num_epochs = 10\n",
        "for epoch in range(num_epochs):\n",
        "  model.train()\n",
        "  total_loss = 0.0\n",
        "  for src, tgt in dataloader:\n",
        "    src, tgt = src.to(device), tgt.to(device)\n",
        "    optimizer.zero_grad()\n",
        "    outputs = model(src, tgt)\n",
        "    output = outputs[:, 1:].reshape(-1, outputs.shape[2])\n",
        "    tgt = tgt[:, 1:].reshape(-1)\n",
        "    loss = criterion(output, tgt)\n",
        "    loss.backward()\n",
        "    optimizer.step()\n",
        "    total_loss += loss.item()\n",
        "\n",
        "  print(f\"Epoch {epoch+1}/{num_epochs}, Loss: {total_loss / len(dataloader):.4f}\")\n",
        "  # Save the model checkpoint after each epoch\n",
        "  checkpoint_path = f\"seq2seq_checkpoint_epoch_{epoch}.pth\"\n",
        "  torch.save({\n",
        "      'epoch': epoch,\n",
        "      'model_state_dict': model.state_dict(),\n",
        "      'optimizer_state_dict': optimizer.state_dict(),\n",
        "      'loss': total_loss / len(dataloader),\n",
        "      'english_vocab': english_vocab,\n",
        "      'urdu_vocab': urdu_vocab,\n",
        "      }, checkpoint_path)\n",
        "  print(f\"Checkpoint saved at {checkpoint_path}\")"
      ],
      "metadata": {
        "colab": {
          "base_uri": "https://localhost:8080/"
        },
        "collapsed": true,
        "id": "x1k2RdY_dpiv",
        "outputId": "b7febc19-caee-4015-97e9-5d1e462eb880"
      },
      "execution_count": null,
      "outputs": [
        {
          "output_type": "stream",
          "name": "stdout",
          "text": [
            "Using device: cpu\n",
            "LSTM cell with 300 input size and 256 hidden size\n",
            "LSTM cell with 556 input size and 256 hidden size\n",
            "src shape: torch.Size([32, 50]), max index: 9221, min index: 0\n",
            "tgt shape: torch.Size([32, 50]), max index: 8339, min index: 0\n",
            "Epoch 1/10, Loss: 7.4263\n",
            "Checkpoint saved at seq2seq_checkpoint_epoch_0.pth\n",
            "Epoch 2/10, Loss: 6.7477\n",
            "Checkpoint saved at seq2seq_checkpoint_epoch_1.pth\n",
            "Epoch 3/10, Loss: 6.6428\n",
            "Checkpoint saved at seq2seq_checkpoint_epoch_2.pth\n",
            "Epoch 4/10, Loss: 6.5685\n",
            "Checkpoint saved at seq2seq_checkpoint_epoch_3.pth\n",
            "Epoch 5/10, Loss: 6.5080\n",
            "Checkpoint saved at seq2seq_checkpoint_epoch_4.pth\n",
            "Epoch 6/10, Loss: 6.4427\n",
            "Checkpoint saved at seq2seq_checkpoint_epoch_5.pth\n",
            "Epoch 7/10, Loss: 6.3678\n",
            "Checkpoint saved at seq2seq_checkpoint_epoch_6.pth\n",
            "Epoch 8/10, Loss: 6.3032\n",
            "Checkpoint saved at seq2seq_checkpoint_epoch_7.pth\n",
            "Epoch 9/10, Loss: 6.2243\n",
            "Checkpoint saved at seq2seq_checkpoint_epoch_8.pth\n",
            "Epoch 10/10, Loss: 6.1502\n",
            "Checkpoint saved at seq2seq_checkpoint_epoch_9.pth\n"
          ]
        }
      ]
    },
    {
      "cell_type": "code",
      "source": [
        "import torch\n",
        "import torch.nn as nn\n",
        "import torch.optim as optim\n",
        "from torch.utils.data import DataLoader, TensorDataset\n",
        "import os\n",
        "os.environ['CUDA_LAUNCH_BLOCKING'] = '1'\n",
        "checkpoint_path = \"seq2seq_checkpoint_epoch_9.pth\"\n",
        "\n",
        "# Load the checkpoint\n",
        "checkpoint = torch.load(checkpoint_path, map_location=\"cuda\")\n",
        "\n",
        "# Restore the English and Urdu embedding layers\n",
        "english_embedding_layer = nn.Embedding.from_pretrained(\n",
        "    torch.tensor(english_embeddings, dtype=torch.float32), freeze=False\n",
        ")\n",
        "urdu_embedding_layer = nn.Embedding.from_pretrained(\n",
        "    torch.tensor(urdu_embeddings, dtype=torch.float32), freeze=False\n",
        ")\n",
        "\n",
        "hidden_size =256\n",
        "BATCH_SIZE=32\n",
        "# Create DataLoader\n",
        "dataset = TensorDataset(train_urdu, train_eng)\n",
        "dataloader = DataLoader(dataset, batch_size=BATCH_SIZE, shuffle=True)\n",
        "\n",
        "# Restore the model\n",
        "encoder = Encoder(urdu_embedding_layer, hidden_size)\n",
        "decoder = Decoder(english_embedding_layer, hidden_size, len(checkpoint['english_vocab']))\n",
        "model = Seq2Seq(encoder, decoder).to(\"cuda\")\n",
        "model.load_state_dict(checkpoint['model_state_dict'])\n",
        "\n",
        "# Restore the optimizer\n",
        "optimizer = optim.Adam(model.parameters(), lr=0.001)\n",
        "optimizer.load_state_dict(checkpoint['optimizer_state_dict'])\n",
        "\n",
        "#Loss function\n",
        "criterion = nn.CrossEntropyLoss(ignore_index=english_vocab[\"<PAD>\"]) #ignore <PAD>\n",
        "\n",
        "# Restore metadata\n",
        "start_epoch = checkpoint['epoch'] + 1  # Resume from the next epoch\n",
        "loss = checkpoint['loss']\n",
        "english_vocab = checkpoint['english_vocab']\n",
        "urdu_vocab = checkpoint['urdu_vocab']\n",
        "\n",
        "print(f\"Resuming training from epoch {start_epoch}, last loss: {loss:.4f}\")\n",
        "\n",
        "num_epochs = 50\n",
        "for epoch in range(start_epoch, num_epochs):\n",
        "    model.train()\n",
        "    total_loss = 0.0\n",
        "    for src, tgt in dataloader:\n",
        "        src, tgt = src.to(\"cuda\"), tgt.to(\"cuda\")\n",
        "        optimizer.zero_grad()\n",
        "        outputs = model(src, tgt)\n",
        "        output = outputs[:, 1:].reshape(-1, outputs.shape[2])\n",
        "        tgt = tgt[:, 1:].reshape(-1)\n",
        "        loss = criterion(output, tgt)\n",
        "        loss.backward()\n",
        "        optimizer.step()\n",
        "        total_loss += loss.item()\n",
        "\n",
        "    print(f\"Epoch {epoch+1}/{num_epochs}, Loss: {total_loss / len(dataloader):.4f}\")\n",
        "\n",
        "    # Save the updated checkpoint\n",
        "    checkpoint_path = f\"seq2seq_checkpoint_epoch_{epoch}.pth\"\n",
        "    torch.save({\n",
        "        'epoch': epoch,\n",
        "        'model_state_dict': model.state_dict(),\n",
        "        'optimizer_state_dict': optimizer.state_dict(),\n",
        "        'loss': total_loss / len(dataloader),\n",
        "        'english_vocab': english_vocab,\n",
        "        'urdu_vocab': urdu_vocab,\n",
        "    }, checkpoint_path)\n",
        "    print(f\"Checkpoint saved at {checkpoint_path}\")"
      ],
      "metadata": {
        "colab": {
          "base_uri": "https://localhost:8080/"
        },
        "collapsed": true,
        "id": "3HnFZi15Ow4b",
        "outputId": "c4b1d2f5-65fe-4385-e08c-8341bb9fbc06"
      },
      "execution_count": null,
      "outputs": [
        {
          "output_type": "stream",
          "name": "stderr",
          "text": [
            "<ipython-input-30-77de308042a4>:10: FutureWarning: You are using `torch.load` with `weights_only=False` (the current default value), which uses the default pickle module implicitly. It is possible to construct malicious pickle data which will execute arbitrary code during unpickling (See https://github.com/pytorch/pytorch/blob/main/SECURITY.md#untrusted-models for more details). In a future release, the default value for `weights_only` will be flipped to `True`. This limits the functions that could be executed during unpickling. Arbitrary objects will no longer be allowed to be loaded via this mode unless they are explicitly allowlisted by the user via `torch.serialization.add_safe_globals`. We recommend you start setting `weights_only=True` for any use case where you don't have full control of the loaded file. Please open an issue on GitHub for any issues related to this experimental feature.\n",
            "  checkpoint = torch.load(checkpoint_path, map_location=\"cuda\")\n"
          ]
        },
        {
          "output_type": "stream",
          "name": "stdout",
          "text": [
            "LSTM cell with 300 input size and 256 hidden size\n",
            "LSTM cell with 556 input size and 256 hidden size\n",
            "Resuming training from epoch 10, last loss: 6.1502\n",
            "Epoch 11/50, Loss: 6.0968\n",
            "Checkpoint saved at seq2seq_checkpoint_epoch_10.pth\n",
            "Epoch 12/50, Loss: 6.0420\n",
            "Checkpoint saved at seq2seq_checkpoint_epoch_11.pth\n",
            "Epoch 13/50, Loss: 5.9839\n",
            "Checkpoint saved at seq2seq_checkpoint_epoch_12.pth\n",
            "Epoch 14/50, Loss: 5.9243\n",
            "Checkpoint saved at seq2seq_checkpoint_epoch_13.pth\n",
            "Epoch 15/50, Loss: 5.8734\n",
            "Checkpoint saved at seq2seq_checkpoint_epoch_14.pth\n",
            "Epoch 16/50, Loss: 5.7943\n",
            "Checkpoint saved at seq2seq_checkpoint_epoch_15.pth\n",
            "Epoch 17/50, Loss: 5.7581\n",
            "Checkpoint saved at seq2seq_checkpoint_epoch_16.pth\n",
            "Epoch 18/50, Loss: 5.6825\n",
            "Checkpoint saved at seq2seq_checkpoint_epoch_17.pth\n",
            "Epoch 19/50, Loss: 5.6369\n",
            "Checkpoint saved at seq2seq_checkpoint_epoch_18.pth\n",
            "Epoch 20/50, Loss: 5.5568\n",
            "Checkpoint saved at seq2seq_checkpoint_epoch_19.pth\n",
            "Epoch 21/50, Loss: 5.4984\n",
            "Checkpoint saved at seq2seq_checkpoint_epoch_20.pth\n",
            "Epoch 22/50, Loss: 5.4106\n",
            "Checkpoint saved at seq2seq_checkpoint_epoch_21.pth\n",
            "Epoch 23/50, Loss: 5.3722\n",
            "Checkpoint saved at seq2seq_checkpoint_epoch_22.pth\n",
            "Epoch 24/50, Loss: 5.3275\n",
            "Checkpoint saved at seq2seq_checkpoint_epoch_23.pth\n",
            "Epoch 25/50, Loss: 5.2706\n",
            "Checkpoint saved at seq2seq_checkpoint_epoch_24.pth\n",
            "Epoch 26/50, Loss: 5.2087\n",
            "Checkpoint saved at seq2seq_checkpoint_epoch_25.pth\n",
            "Epoch 27/50, Loss: 5.1345\n",
            "Checkpoint saved at seq2seq_checkpoint_epoch_26.pth\n",
            "Epoch 28/50, Loss: 5.0783\n",
            "Checkpoint saved at seq2seq_checkpoint_epoch_27.pth\n",
            "Epoch 29/50, Loss: 5.0143\n",
            "Checkpoint saved at seq2seq_checkpoint_epoch_28.pth\n",
            "Epoch 30/50, Loss: 4.9697\n",
            "Checkpoint saved at seq2seq_checkpoint_epoch_29.pth\n",
            "Epoch 31/50, Loss: 4.8886\n",
            "Checkpoint saved at seq2seq_checkpoint_epoch_30.pth\n",
            "Epoch 32/50, Loss: 4.8183\n",
            "Checkpoint saved at seq2seq_checkpoint_epoch_31.pth\n",
            "Epoch 33/50, Loss: 4.7911\n",
            "Checkpoint saved at seq2seq_checkpoint_epoch_32.pth\n",
            "Epoch 34/50, Loss: 4.7293\n",
            "Checkpoint saved at seq2seq_checkpoint_epoch_33.pth\n",
            "Epoch 35/50, Loss: 4.6685\n",
            "Checkpoint saved at seq2seq_checkpoint_epoch_34.pth\n",
            "Epoch 36/50, Loss: 4.6301\n",
            "Checkpoint saved at seq2seq_checkpoint_epoch_35.pth\n",
            "Epoch 37/50, Loss: 4.5480\n",
            "Checkpoint saved at seq2seq_checkpoint_epoch_36.pth\n",
            "Epoch 38/50, Loss: 4.4815\n",
            "Checkpoint saved at seq2seq_checkpoint_epoch_37.pth\n",
            "Epoch 39/50, Loss: 4.4758\n",
            "Checkpoint saved at seq2seq_checkpoint_epoch_38.pth\n",
            "Epoch 40/50, Loss: 4.4037\n",
            "Checkpoint saved at seq2seq_checkpoint_epoch_39.pth\n",
            "Epoch 41/50, Loss: 4.3131\n",
            "Checkpoint saved at seq2seq_checkpoint_epoch_40.pth\n",
            "Epoch 42/50, Loss: 4.2572\n",
            "Checkpoint saved at seq2seq_checkpoint_epoch_41.pth\n",
            "Epoch 43/50, Loss: 4.1717\n",
            "Checkpoint saved at seq2seq_checkpoint_epoch_42.pth\n",
            "Epoch 44/50, Loss: 4.1482\n",
            "Checkpoint saved at seq2seq_checkpoint_epoch_43.pth\n",
            "Epoch 45/50, Loss: 4.0619\n",
            "Checkpoint saved at seq2seq_checkpoint_epoch_44.pth\n",
            "Epoch 46/50, Loss: 4.0249\n",
            "Checkpoint saved at seq2seq_checkpoint_epoch_45.pth\n",
            "Epoch 47/50, Loss: 3.9636\n",
            "Checkpoint saved at seq2seq_checkpoint_epoch_46.pth\n",
            "Epoch 48/50, Loss: 3.8990\n",
            "Checkpoint saved at seq2seq_checkpoint_epoch_47.pth\n",
            "Epoch 49/50, Loss: 3.8089\n",
            "Checkpoint saved at seq2seq_checkpoint_epoch_48.pth\n",
            "Epoch 50/50, Loss: 3.7250\n",
            "Checkpoint saved at seq2seq_checkpoint_epoch_49.pth\n"
          ]
        }
      ]
    },
    {
      "cell_type": "code",
      "source": [
        "import torch\n",
        "import torch.nn as nn\n",
        "import torch.optim as optim\n",
        "from torch.utils.data import DataLoader, TensorDataset\n",
        "import os\n",
        "os.environ['CUDA_LAUNCH_BLOCKING'] = '1'\n",
        "checkpoint_path = \"seq2seq_checkpoint_epoch_49.pth\"\n",
        "\n",
        "# Load the checkpoint\n",
        "checkpoint = torch.load(checkpoint_path, map_location=\"cuda\")\n",
        "\n",
        "# Restore the English and Urdu embedding layers\n",
        "english_embedding_layer = nn.Embedding.from_pretrained(\n",
        "    torch.tensor(english_embeddings, dtype=torch.float32), freeze=False\n",
        ")\n",
        "urdu_embedding_layer = nn.Embedding.from_pretrained(\n",
        "    torch.tensor(urdu_embeddings, dtype=torch.float32), freeze=False\n",
        ")\n",
        "\n",
        "hidden_size =256\n",
        "BATCH_SIZE=32\n",
        "# Create DataLoader\n",
        "dataset = TensorDataset(train_urdu, train_eng)\n",
        "dataloader = DataLoader(dataset, batch_size=BATCH_SIZE, shuffle=True)\n",
        "\n",
        "# Restore the model\n",
        "encoder = Encoder(urdu_embedding_layer, hidden_size)\n",
        "decoder = Decoder(english_embedding_layer, hidden_size, len(checkpoint['english_vocab']))\n",
        "model = Seq2Seq(encoder, decoder).to(\"cuda\")\n",
        "model.load_state_dict(checkpoint['model_state_dict'])\n",
        "\n",
        "# Restore the optimizer\n",
        "optimizer = optim.Adam(model.parameters(), lr=0.001)\n",
        "optimizer.load_state_dict(checkpoint['optimizer_state_dict'])\n",
        "\n",
        "#Loss function\n",
        "criterion = nn.CrossEntropyLoss(ignore_index=english_vocab[\"<PAD>\"]) #ignore <PAD>\n",
        "\n",
        "# Restore metadata\n",
        "start_epoch = checkpoint['epoch'] + 1  # Resume from the next epoch\n",
        "loss = checkpoint['loss']\n",
        "english_vocab = checkpoint['english_vocab']\n",
        "urdu_vocab = checkpoint['urdu_vocab']\n",
        "\n",
        "print(f\"Resuming training from epoch {start_epoch}, last loss: {loss:.4f}\")\n",
        "\n",
        "num_epochs = 100\n",
        "for epoch in range(start_epoch, num_epochs):\n",
        "    model.train()\n",
        "    total_loss = 0.0\n",
        "    for src, tgt in dataloader:\n",
        "        src, tgt = src.to(\"cuda\"), tgt.to(\"cuda\")\n",
        "        optimizer.zero_grad()\n",
        "        outputs = model(src, tgt)\n",
        "        output = outputs[:, 1:].reshape(-1, outputs.shape[2])\n",
        "        tgt = tgt[:, 1:].reshape(-1)\n",
        "        loss = criterion(output, tgt)\n",
        "        loss.backward()\n",
        "        optimizer.step()\n",
        "        total_loss += loss.item()\n",
        "\n",
        "    print(f\"Epoch {epoch+1}/{num_epochs}, Loss: {total_loss / len(dataloader):.4f}\")\n",
        "\n",
        "    # Save the updated checkpoint\n",
        "    checkpoint_path = f\"seq2seq_checkpoint_epoch_{epoch}.pth\"\n",
        "    torch.save({\n",
        "        'epoch': epoch,\n",
        "        'model_state_dict': model.state_dict(),\n",
        "        'optimizer_state_dict': optimizer.state_dict(),\n",
        "        'loss': total_loss / len(dataloader),\n",
        "        'english_vocab': english_vocab,\n",
        "        'urdu_vocab': urdu_vocab,\n",
        "    }, checkpoint_path)\n",
        "    print(f\"Checkpoint saved at {checkpoint_path}\")"
      ],
      "metadata": {
        "colab": {
          "base_uri": "https://localhost:8080/"
        },
        "id": "afVLdMQhUFWd",
        "outputId": "73267725-ce51-4511-d336-7f5c1da7e23a"
      },
      "execution_count": null,
      "outputs": [
        {
          "output_type": "stream",
          "name": "stderr",
          "text": [
            "<ipython-input-36-704b48d3405b>:10: FutureWarning: You are using `torch.load` with `weights_only=False` (the current default value), which uses the default pickle module implicitly. It is possible to construct malicious pickle data which will execute arbitrary code during unpickling (See https://github.com/pytorch/pytorch/blob/main/SECURITY.md#untrusted-models for more details). In a future release, the default value for `weights_only` will be flipped to `True`. This limits the functions that could be executed during unpickling. Arbitrary objects will no longer be allowed to be loaded via this mode unless they are explicitly allowlisted by the user via `torch.serialization.add_safe_globals`. We recommend you start setting `weights_only=True` for any use case where you don't have full control of the loaded file. Please open an issue on GitHub for any issues related to this experimental feature.\n",
            "  checkpoint = torch.load(checkpoint_path, map_location=\"cuda\")\n"
          ]
        },
        {
          "output_type": "stream",
          "name": "stdout",
          "text": [
            "LSTM cell with 300 input size and 256 hidden size\n",
            "LSTM cell with 556 input size and 256 hidden size\n",
            "Resuming training from epoch 50, last loss: 3.7250\n",
            "Epoch 51/100, Loss: 3.6853\n",
            "Checkpoint saved at seq2seq_checkpoint_epoch_50.pth\n",
            "Epoch 52/100, Loss: 3.5971\n",
            "Checkpoint saved at seq2seq_checkpoint_epoch_51.pth\n",
            "Epoch 53/100, Loss: 3.5398\n",
            "Checkpoint saved at seq2seq_checkpoint_epoch_52.pth\n",
            "Epoch 54/100, Loss: 3.4565\n",
            "Checkpoint saved at seq2seq_checkpoint_epoch_53.pth\n",
            "Epoch 55/100, Loss: 3.3994\n",
            "Checkpoint saved at seq2seq_checkpoint_epoch_54.pth\n",
            "Epoch 56/100, Loss: 3.3315\n",
            "Checkpoint saved at seq2seq_checkpoint_epoch_55.pth\n",
            "Epoch 57/100, Loss: 3.2016\n",
            "Checkpoint saved at seq2seq_checkpoint_epoch_56.pth\n",
            "Epoch 58/100, Loss: 3.1514\n",
            "Checkpoint saved at seq2seq_checkpoint_epoch_57.pth\n",
            "Epoch 59/100, Loss: 3.0642\n",
            "Checkpoint saved at seq2seq_checkpoint_epoch_58.pth\n",
            "Epoch 60/100, Loss: 3.0155\n",
            "Checkpoint saved at seq2seq_checkpoint_epoch_59.pth\n",
            "Epoch 61/100, Loss: 2.9711\n",
            "Checkpoint saved at seq2seq_checkpoint_epoch_60.pth\n",
            "Epoch 62/100, Loss: 2.9404\n",
            "Checkpoint saved at seq2seq_checkpoint_epoch_61.pth\n",
            "Epoch 63/100, Loss: 2.7990\n",
            "Checkpoint saved at seq2seq_checkpoint_epoch_62.pth\n",
            "Epoch 64/100, Loss: 2.7151\n",
            "Checkpoint saved at seq2seq_checkpoint_epoch_63.pth\n",
            "Epoch 65/100, Loss: 2.6822\n",
            "Checkpoint saved at seq2seq_checkpoint_epoch_64.pth\n",
            "Epoch 66/100, Loss: 2.5600\n",
            "Checkpoint saved at seq2seq_checkpoint_epoch_65.pth\n",
            "Epoch 67/100, Loss: 2.5592\n",
            "Checkpoint saved at seq2seq_checkpoint_epoch_66.pth\n",
            "Epoch 68/100, Loss: 2.4561\n",
            "Checkpoint saved at seq2seq_checkpoint_epoch_67.pth\n",
            "Epoch 69/100, Loss: 2.3664\n",
            "Checkpoint saved at seq2seq_checkpoint_epoch_68.pth\n",
            "Epoch 70/100, Loss: 2.3510\n",
            "Checkpoint saved at seq2seq_checkpoint_epoch_69.pth\n",
            "Epoch 71/100, Loss: 2.2733\n",
            "Checkpoint saved at seq2seq_checkpoint_epoch_70.pth\n",
            "Epoch 72/100, Loss: 2.2434\n",
            "Checkpoint saved at seq2seq_checkpoint_epoch_71.pth\n",
            "Epoch 73/100, Loss: 2.1428\n",
            "Checkpoint saved at seq2seq_checkpoint_epoch_72.pth\n",
            "Epoch 74/100, Loss: 2.0986\n",
            "Checkpoint saved at seq2seq_checkpoint_epoch_73.pth\n",
            "Epoch 75/100, Loss: 2.0456\n",
            "Checkpoint saved at seq2seq_checkpoint_epoch_74.pth\n",
            "Epoch 76/100, Loss: 1.9455\n",
            "Checkpoint saved at seq2seq_checkpoint_epoch_75.pth\n",
            "Epoch 77/100, Loss: 1.9200\n",
            "Checkpoint saved at seq2seq_checkpoint_epoch_76.pth\n",
            "Epoch 78/100, Loss: 1.8551\n",
            "Checkpoint saved at seq2seq_checkpoint_epoch_77.pth\n",
            "Epoch 79/100, Loss: 1.8080\n",
            "Checkpoint saved at seq2seq_checkpoint_epoch_78.pth\n",
            "Epoch 80/100, Loss: 1.7333\n",
            "Checkpoint saved at seq2seq_checkpoint_epoch_79.pth\n",
            "Epoch 81/100, Loss: 1.6813\n",
            "Checkpoint saved at seq2seq_checkpoint_epoch_80.pth\n",
            "Epoch 82/100, Loss: 1.6359\n",
            "Checkpoint saved at seq2seq_checkpoint_epoch_81.pth\n",
            "Epoch 83/100, Loss: 1.5969\n",
            "Checkpoint saved at seq2seq_checkpoint_epoch_82.pth\n",
            "Epoch 84/100, Loss: 1.5273\n",
            "Checkpoint saved at seq2seq_checkpoint_epoch_83.pth\n",
            "Epoch 85/100, Loss: 1.4727\n",
            "Checkpoint saved at seq2seq_checkpoint_epoch_84.pth\n",
            "Epoch 86/100, Loss: 1.4497\n",
            "Checkpoint saved at seq2seq_checkpoint_epoch_85.pth\n",
            "Epoch 87/100, Loss: 1.4000\n",
            "Checkpoint saved at seq2seq_checkpoint_epoch_86.pth\n",
            "Epoch 88/100, Loss: 1.3430\n",
            "Checkpoint saved at seq2seq_checkpoint_epoch_87.pth\n",
            "Epoch 89/100, Loss: 1.2853\n",
            "Checkpoint saved at seq2seq_checkpoint_epoch_88.pth\n",
            "Epoch 90/100, Loss: 1.2704\n",
            "Checkpoint saved at seq2seq_checkpoint_epoch_89.pth\n",
            "Epoch 91/100, Loss: 1.1991\n",
            "Checkpoint saved at seq2seq_checkpoint_epoch_90.pth\n",
            "Epoch 92/100, Loss: 1.1319\n",
            "Checkpoint saved at seq2seq_checkpoint_epoch_91.pth\n",
            "Epoch 93/100, Loss: 1.0986\n",
            "Checkpoint saved at seq2seq_checkpoint_epoch_92.pth\n",
            "Epoch 94/100, Loss: 1.0575\n",
            "Checkpoint saved at seq2seq_checkpoint_epoch_93.pth\n",
            "Epoch 95/100, Loss: 1.0213\n",
            "Checkpoint saved at seq2seq_checkpoint_epoch_94.pth\n",
            "Epoch 96/100, Loss: 0.9873\n",
            "Checkpoint saved at seq2seq_checkpoint_epoch_95.pth\n",
            "Epoch 97/100, Loss: 0.9307\n",
            "Checkpoint saved at seq2seq_checkpoint_epoch_96.pth\n",
            "Epoch 98/100, Loss: 0.9111\n",
            "Checkpoint saved at seq2seq_checkpoint_epoch_97.pth\n",
            "Epoch 99/100, Loss: 0.8687\n",
            "Checkpoint saved at seq2seq_checkpoint_epoch_98.pth\n",
            "Epoch 100/100, Loss: 0.8174\n",
            "Checkpoint saved at seq2seq_checkpoint_epoch_99.pth\n"
          ]
        }
      ]
    },
    {
      "cell_type": "code",
      "source": [
        "import torch\n",
        "import torch.nn as nn\n",
        "import torch.optim as optim\n",
        "from torch.utils.data import DataLoader, TensorDataset\n",
        "import os\n",
        "os.environ['CUDA_LAUNCH_BLOCKING'] = '1'\n",
        "checkpoint_path = \"seq2seq_checkpoint_epoch_99.pth\"\n",
        "\n",
        "# Load the checkpoint\n",
        "checkpoint = torch.load(checkpoint_path, map_location=\"cuda\")\n",
        "\n",
        "# Restore the English and Urdu embedding layers\n",
        "english_embedding_layer = nn.Embedding.from_pretrained(\n",
        "    torch.tensor(english_embeddings, dtype=torch.float32), freeze=False\n",
        ")\n",
        "urdu_embedding_layer = nn.Embedding.from_pretrained(\n",
        "    torch.tensor(urdu_embeddings, dtype=torch.float32), freeze=False\n",
        ")\n",
        "\n",
        "hidden_size =256\n",
        "BATCH_SIZE=32\n",
        "# Create DataLoader\n",
        "dataset = TensorDataset(train_urdu, train_eng)\n",
        "dataloader = DataLoader(dataset, batch_size=BATCH_SIZE, shuffle=True)\n",
        "\n",
        "# Restore the model\n",
        "encoder = Encoder(urdu_embedding_layer, hidden_size)\n",
        "decoder = Decoder(english_embedding_layer, hidden_size, len(checkpoint['english_vocab']))\n",
        "model = Seq2Seq(encoder, decoder).to(\"cuda\")\n",
        "model.load_state_dict(checkpoint['model_state_dict'])\n",
        "\n",
        "# Restore the optimizer\n",
        "optimizer = optim.Adam(model.parameters(), lr=0.001)\n",
        "optimizer.load_state_dict(checkpoint['optimizer_state_dict'])\n",
        "\n",
        "#Loss function\n",
        "criterion = nn.CrossEntropyLoss(ignore_index=english_vocab[\"<PAD>\"]) #ignore <PAD>\n",
        "\n",
        "# Restore metadata\n",
        "start_epoch = checkpoint['epoch'] + 1  # Resume from the next epoch\n",
        "loss = checkpoint['loss']\n",
        "english_vocab = checkpoint['english_vocab']\n",
        "urdu_vocab = checkpoint['urdu_vocab']\n",
        "\n",
        "print(f\"Resuming training from epoch {start_epoch}, last loss: {loss:.4f}\")\n",
        "\n",
        "num_epochs = 120\n",
        "for epoch in range(start_epoch, num_epochs):\n",
        "    model.train()\n",
        "    total_loss = 0.0\n",
        "    for src, tgt in dataloader:\n",
        "        src, tgt = src.to(\"cuda\"), tgt.to(\"cuda\")\n",
        "        optimizer.zero_grad()\n",
        "        outputs = model(src, tgt)\n",
        "        output = outputs[:, 1:].reshape(-1, outputs.shape[2])\n",
        "        tgt = tgt[:, 1:].reshape(-1)\n",
        "        loss = criterion(output, tgt)\n",
        "        loss.backward()\n",
        "        optimizer.step()\n",
        "        total_loss += loss.item()\n",
        "\n",
        "    print(f\"Epoch {epoch+1}/{num_epochs}, Loss: {total_loss / len(dataloader):.4f}\")\n",
        "\n",
        "    # Save the updated checkpoint\n",
        "    checkpoint_path = f\"seq2seq_checkpoint_epoch_{epoch}.pth\"\n",
        "    torch.save({\n",
        "        'epoch': epoch,\n",
        "        'model_state_dict': model.state_dict(),\n",
        "        'optimizer_state_dict': optimizer.state_dict(),\n",
        "        'loss': total_loss / len(dataloader),\n",
        "        'english_vocab': english_vocab,\n",
        "        'urdu_vocab': urdu_vocab,\n",
        "    }, checkpoint_path)\n",
        "    print(f\"Checkpoint saved at {checkpoint_path}\")"
      ],
      "metadata": {
        "colab": {
          "base_uri": "https://localhost:8080/"
        },
        "collapsed": true,
        "id": "3SoSn2J5WTcP",
        "outputId": "cf729afe-698a-4ea9-e7e4-f54f432c31eb"
      },
      "execution_count": null,
      "outputs": [
        {
          "output_type": "stream",
          "name": "stderr",
          "text": [
            "<ipython-input-38-6e6ee30d818f>:10: FutureWarning: You are using `torch.load` with `weights_only=False` (the current default value), which uses the default pickle module implicitly. It is possible to construct malicious pickle data which will execute arbitrary code during unpickling (See https://github.com/pytorch/pytorch/blob/main/SECURITY.md#untrusted-models for more details). In a future release, the default value for `weights_only` will be flipped to `True`. This limits the functions that could be executed during unpickling. Arbitrary objects will no longer be allowed to be loaded via this mode unless they are explicitly allowlisted by the user via `torch.serialization.add_safe_globals`. We recommend you start setting `weights_only=True` for any use case where you don't have full control of the loaded file. Please open an issue on GitHub for any issues related to this experimental feature.\n",
            "  checkpoint = torch.load(checkpoint_path, map_location=\"cuda\")\n"
          ]
        },
        {
          "output_type": "stream",
          "name": "stdout",
          "text": [
            "LSTM cell with 300 input size and 256 hidden size\n",
            "LSTM cell with 556 input size and 256 hidden size\n",
            "Resuming training from epoch 100, last loss: 0.8174\n",
            "Epoch 101/120, Loss: 0.7805\n",
            "Checkpoint saved at seq2seq_checkpoint_epoch_100.pth\n",
            "Epoch 102/120, Loss: 0.7559\n",
            "Checkpoint saved at seq2seq_checkpoint_epoch_101.pth\n",
            "Epoch 103/120, Loss: 0.7143\n",
            "Checkpoint saved at seq2seq_checkpoint_epoch_102.pth\n",
            "Epoch 104/120, Loss: 0.6991\n",
            "Checkpoint saved at seq2seq_checkpoint_epoch_103.pth\n",
            "Epoch 105/120, Loss: 0.6660\n",
            "Checkpoint saved at seq2seq_checkpoint_epoch_104.pth\n",
            "Epoch 106/120, Loss: 0.6395\n",
            "Checkpoint saved at seq2seq_checkpoint_epoch_105.pth\n",
            "Epoch 107/120, Loss: 0.6012\n",
            "Checkpoint saved at seq2seq_checkpoint_epoch_106.pth\n",
            "Epoch 108/120, Loss: 0.5738\n",
            "Checkpoint saved at seq2seq_checkpoint_epoch_107.pth\n",
            "Epoch 109/120, Loss: 0.5494\n",
            "Checkpoint saved at seq2seq_checkpoint_epoch_108.pth\n",
            "Epoch 110/120, Loss: 0.5290\n",
            "Checkpoint saved at seq2seq_checkpoint_epoch_109.pth\n",
            "Epoch 111/120, Loss: 0.5097\n",
            "Checkpoint saved at seq2seq_checkpoint_epoch_110.pth\n",
            "Epoch 112/120, Loss: 0.4617\n",
            "Checkpoint saved at seq2seq_checkpoint_epoch_111.pth\n",
            "Epoch 113/120, Loss: 0.4408\n",
            "Checkpoint saved at seq2seq_checkpoint_epoch_112.pth\n",
            "Epoch 114/120, Loss: 0.4265\n",
            "Checkpoint saved at seq2seq_checkpoint_epoch_113.pth\n",
            "Epoch 115/120, Loss: 0.4143\n",
            "Checkpoint saved at seq2seq_checkpoint_epoch_114.pth\n",
            "Epoch 116/120, Loss: 0.3793\n",
            "Checkpoint saved at seq2seq_checkpoint_epoch_115.pth\n",
            "Epoch 117/120, Loss: 0.3621\n",
            "Checkpoint saved at seq2seq_checkpoint_epoch_116.pth\n",
            "Epoch 118/120, Loss: 0.3351\n",
            "Checkpoint saved at seq2seq_checkpoint_epoch_117.pth\n",
            "Epoch 119/120, Loss: 0.3081\n",
            "Checkpoint saved at seq2seq_checkpoint_epoch_118.pth\n",
            "Epoch 120/120, Loss: 0.2914\n",
            "Checkpoint saved at seq2seq_checkpoint_epoch_119.pth\n"
          ]
        }
      ]
    },
    {
      "cell_type": "code",
      "source": [
        "import torch\n",
        "import torch.nn as nn\n",
        "import torch.optim as optim\n",
        "from torch.utils.data import DataLoader, TensorDataset\n",
        "import os\n",
        "os.environ['CUDA_LAUNCH_BLOCKING'] = '1'\n",
        "checkpoint_path = \"seq2seq_checkpoint_epoch_119.pth\"\n",
        "\n",
        "# Load the checkpoint\n",
        "checkpoint = torch.load(checkpoint_path, map_location=\"cuda\")\n",
        "\n",
        "# Restore the English and Urdu embedding layers\n",
        "english_embedding_layer = nn.Embedding.from_pretrained(\n",
        "    torch.tensor(english_embeddings, dtype=torch.float32), freeze=False\n",
        ")\n",
        "urdu_embedding_layer = nn.Embedding.from_pretrained(\n",
        "    torch.tensor(urdu_embeddings, dtype=torch.float32), freeze=False\n",
        ")\n",
        "\n",
        "hidden_size =256\n",
        "BATCH_SIZE=32\n",
        "# Create DataLoader\n",
        "dataset = TensorDataset(train_urdu, train_eng)\n",
        "dataloader = DataLoader(dataset, batch_size=BATCH_SIZE, shuffle=True)\n",
        "\n",
        "# Restore the model\n",
        "encoder = Encoder(urdu_embedding_layer, hidden_size)\n",
        "decoder = Decoder(english_embedding_layer, hidden_size, len(checkpoint['english_vocab']))\n",
        "model = Seq2Seq(encoder, decoder).to(\"cuda\")\n",
        "model.load_state_dict(checkpoint['model_state_dict'])\n",
        "\n",
        "# Restore the optimizer\n",
        "optimizer = optim.Adam(model.parameters(), lr=0.001)\n",
        "optimizer.load_state_dict(checkpoint['optimizer_state_dict'])\n",
        "\n",
        "#Loss function\n",
        "criterion = nn.CrossEntropyLoss(ignore_index=english_vocab[\"<PAD>\"]) #ignore <PAD>\n",
        "\n",
        "# Restore metadata\n",
        "start_epoch = checkpoint['epoch'] + 1  # Resume from the next epoch\n",
        "loss = checkpoint['loss']\n",
        "english_vocab = checkpoint['english_vocab']\n",
        "urdu_vocab = checkpoint['urdu_vocab']\n",
        "\n",
        "print(f\"Resuming training from epoch {start_epoch}, last loss: {loss:.4f}\")\n",
        "\n",
        "num_epochs = 150\n",
        "for epoch in range(start_epoch, num_epochs):\n",
        "    model.train()\n",
        "    total_loss = 0.0\n",
        "    for src, tgt in dataloader:\n",
        "        src, tgt = src.to(\"cuda\"), tgt.to(\"cuda\")\n",
        "        optimizer.zero_grad()\n",
        "        outputs = model(src, tgt)\n",
        "        output = outputs[:, 1:].reshape(-1, outputs.shape[2])\n",
        "        tgt = tgt[:, 1:].reshape(-1)\n",
        "        loss = criterion(output, tgt)\n",
        "        loss.backward()\n",
        "        optimizer.step()\n",
        "        total_loss += loss.item()\n",
        "\n",
        "    print(f\"Epoch {epoch+1}/{num_epochs}, Loss: {total_loss / len(dataloader):.4f}\")\n",
        "\n",
        "    # Save the updated checkpoint\n",
        "    checkpoint_path = f\"seq2seq_checkpoint_epoch_{epoch}.pth\"\n",
        "    torch.save({\n",
        "        'epoch': epoch,\n",
        "        'model_state_dict': model.state_dict(),\n",
        "        'optimizer_state_dict': optimizer.state_dict(),\n",
        "        'loss': total_loss / len(dataloader),\n",
        "        'english_vocab': english_vocab,\n",
        "        'urdu_vocab': urdu_vocab,\n",
        "    }, checkpoint_path)\n",
        "    print(f\"Checkpoint saved at {checkpoint_path}\")"
      ],
      "metadata": {
        "colab": {
          "base_uri": "https://localhost:8080/"
        },
        "id": "7u_VJerhXi9b",
        "outputId": "f0b7a11a-0511-4eaa-a44f-5f957318aac1"
      },
      "execution_count": null,
      "outputs": [
        {
          "output_type": "stream",
          "name": "stderr",
          "text": [
            "<ipython-input-39-2653379d5d75>:10: FutureWarning: You are using `torch.load` with `weights_only=False` (the current default value), which uses the default pickle module implicitly. It is possible to construct malicious pickle data which will execute arbitrary code during unpickling (See https://github.com/pytorch/pytorch/blob/main/SECURITY.md#untrusted-models for more details). In a future release, the default value for `weights_only` will be flipped to `True`. This limits the functions that could be executed during unpickling. Arbitrary objects will no longer be allowed to be loaded via this mode unless they are explicitly allowlisted by the user via `torch.serialization.add_safe_globals`. We recommend you start setting `weights_only=True` for any use case where you don't have full control of the loaded file. Please open an issue on GitHub for any issues related to this experimental feature.\n",
            "  checkpoint = torch.load(checkpoint_path, map_location=\"cuda\")\n"
          ]
        },
        {
          "output_type": "stream",
          "name": "stdout",
          "text": [
            "LSTM cell with 300 input size and 256 hidden size\n",
            "LSTM cell with 556 input size and 256 hidden size\n",
            "Resuming training from epoch 120, last loss: 0.2914\n",
            "Epoch 121/150, Loss: 0.2828\n",
            "Checkpoint saved at seq2seq_checkpoint_epoch_120.pth\n",
            "Epoch 122/150, Loss: 0.2635\n",
            "Checkpoint saved at seq2seq_checkpoint_epoch_121.pth\n",
            "Epoch 123/150, Loss: 0.2555\n",
            "Checkpoint saved at seq2seq_checkpoint_epoch_122.pth\n",
            "Epoch 124/150, Loss: 0.2378\n",
            "Checkpoint saved at seq2seq_checkpoint_epoch_123.pth\n",
            "Epoch 125/150, Loss: 0.2245\n",
            "Checkpoint saved at seq2seq_checkpoint_epoch_124.pth\n",
            "Epoch 126/150, Loss: 0.2089\n",
            "Checkpoint saved at seq2seq_checkpoint_epoch_125.pth\n",
            "Epoch 127/150, Loss: 0.2036\n",
            "Checkpoint saved at seq2seq_checkpoint_epoch_126.pth\n",
            "Epoch 128/150, Loss: 0.1881\n",
            "Checkpoint saved at seq2seq_checkpoint_epoch_127.pth\n",
            "Epoch 129/150, Loss: 0.1876\n",
            "Checkpoint saved at seq2seq_checkpoint_epoch_128.pth\n",
            "Epoch 130/150, Loss: 0.1724\n",
            "Checkpoint saved at seq2seq_checkpoint_epoch_129.pth\n",
            "Epoch 131/150, Loss: 0.1649\n",
            "Checkpoint saved at seq2seq_checkpoint_epoch_130.pth\n",
            "Epoch 132/150, Loss: 0.1519\n",
            "Checkpoint saved at seq2seq_checkpoint_epoch_131.pth\n",
            "Epoch 133/150, Loss: 0.1413\n",
            "Checkpoint saved at seq2seq_checkpoint_epoch_132.pth\n",
            "Epoch 134/150, Loss: 0.1308\n",
            "Checkpoint saved at seq2seq_checkpoint_epoch_133.pth\n",
            "Epoch 135/150, Loss: 0.1256\n",
            "Checkpoint saved at seq2seq_checkpoint_epoch_134.pth\n",
            "Epoch 136/150, Loss: 0.1224\n",
            "Checkpoint saved at seq2seq_checkpoint_epoch_135.pth\n",
            "Epoch 137/150, Loss: 0.1171\n",
            "Checkpoint saved at seq2seq_checkpoint_epoch_136.pth\n",
            "Epoch 138/150, Loss: 0.1152\n",
            "Checkpoint saved at seq2seq_checkpoint_epoch_137.pth\n",
            "Epoch 139/150, Loss: 0.1146\n",
            "Checkpoint saved at seq2seq_checkpoint_epoch_138.pth\n",
            "Epoch 140/150, Loss: 0.1046\n",
            "Checkpoint saved at seq2seq_checkpoint_epoch_139.pth\n",
            "Epoch 141/150, Loss: 0.0959\n",
            "Checkpoint saved at seq2seq_checkpoint_epoch_140.pth\n",
            "Epoch 142/150, Loss: 0.0915\n",
            "Checkpoint saved at seq2seq_checkpoint_epoch_141.pth\n",
            "Epoch 143/150, Loss: 0.0844\n",
            "Checkpoint saved at seq2seq_checkpoint_epoch_142.pth\n",
            "Epoch 144/150, Loss: 0.0782\n",
            "Checkpoint saved at seq2seq_checkpoint_epoch_143.pth\n",
            "Epoch 145/150, Loss: 0.0733\n",
            "Checkpoint saved at seq2seq_checkpoint_epoch_144.pth\n",
            "Epoch 146/150, Loss: 0.0697\n",
            "Checkpoint saved at seq2seq_checkpoint_epoch_145.pth\n",
            "Epoch 147/150, Loss: 0.0658\n",
            "Checkpoint saved at seq2seq_checkpoint_epoch_146.pth\n",
            "Epoch 148/150, Loss: 0.0627\n",
            "Checkpoint saved at seq2seq_checkpoint_epoch_147.pth\n",
            "Epoch 149/150, Loss: 0.0593\n",
            "Checkpoint saved at seq2seq_checkpoint_epoch_148.pth\n",
            "Epoch 150/150, Loss: 0.0569\n",
            "Checkpoint saved at seq2seq_checkpoint_epoch_149.pth\n"
          ]
        }
      ]
    },
    {
      "cell_type": "markdown",
      "source": [
        "#Testing"
      ],
      "metadata": {
        "id": "eW1kcmFCOWuC"
      }
    },
    {
      "cell_type": "code",
      "source": [
        "def preprocess_and_tokenize(sentence, vocab, max_length=50):\n",
        "    # Tokenize the sentence\n",
        "    tokens = sentence.split()\n",
        "    token_indices = [vocab.get(token, vocab['<UNK>']) for token in tokens]\n",
        "\n",
        "    # Add <SOS> and <EOS> tokens, and pad\n",
        "    token_indices = [vocab['<SOS>']] + token_indices[:max_length - 2] + [vocab['<EOS>']]\n",
        "    token_indices += [vocab['<PAD>']] * (max_length - len(token_indices))\n",
        "\n",
        "    # Convert to tensor\n",
        "    return torch.tensor(token_indices, dtype=torch.long).unsqueeze(0)  # Shape: (1, seq_length)\n",
        "\n",
        "def translate(model, input_tensor, urdu_vocab, english_vocab, max_length=50):\n",
        "    model.eval()\n",
        "\n",
        "    with torch.no_grad():\n",
        "        # Move input tensor to the same device as the model\n",
        "        input_tensor = input_tensor.to(next(model.parameters()).device)\n",
        "\n",
        "        # Encode the source sentence\n",
        "        encoder_outputs, encoder_hidden, encoder_cell = model.encoder(input_tensor)\n",
        "\n",
        "        # Initialize the decoder\n",
        "        decoder_input = torch.tensor([english_vocab['<SOS>']], device=input_tensor.device)\n",
        "        decoder_hidden, decoder_cell = encoder_hidden, encoder_cell\n",
        "\n",
        "        # Store translated tokens\n",
        "        translated_tokens = []\n",
        "\n",
        "        for _ in range(max_length):\n",
        "            # Decode with attention\n",
        "            decoder_output, decoder_hidden, decoder_cell, attention_weights = model.decoder(\n",
        "                decoder_input, decoder_hidden, decoder_cell, encoder_outputs\n",
        "            )\n",
        "\n",
        "            # Get the token with the highest probability\n",
        "            top1 = decoder_output.argmax(1).item()\n",
        "\n",
        "            # Stop translation if <EOS> is predicted\n",
        "            if top1 == english_vocab['<EOS>']:\n",
        "                break\n",
        "\n",
        "            # Append the predicted token\n",
        "            translated_tokens.append(top1)\n",
        "\n",
        "            # Set the next input to the predicted token\n",
        "            decoder_input = torch.tensor([top1], device=input_tensor.device)\n",
        "\n",
        "        # Map token indices back to words\n",
        "        idx_to_word = {idx: word for word, idx in english_vocab.items()}\n",
        "        translated_sentence = \" \".join([idx_to_word.get(idx, '<UNK>') for idx in translated_tokens])\n",
        "\n",
        "        return translated_sentence\n",
        "\n",
        "urdu_sentence = \"پیر کے روز، سٹینفورڈ اسکول آف میڈیسن کے سائنسدانوں نے ایک جدید تشخیصی آلہ دریافت کرنے کا اعلان کیا۔\"\n",
        "\n",
        "# Preprocess and tokenize the Urdu sentence\n",
        "input_tensor = preprocess_and_tokenize(urdu_sentence, urdu_vocab)\n",
        "\n",
        "# Perform translation\n",
        "translation = translate(model, input_tensor, urdu_vocab, english_vocab)\n",
        "\n",
        "print(\"Original Urdu:\", urdu_sentence)\n",
        "print(\"Translated English:\", translation)"
      ],
      "metadata": {
        "colab": {
          "base_uri": "https://localhost:8080/"
        },
        "id": "tokiXQFQLH_q",
        "outputId": "6f5e4a5e-e498-4747-943f-c53d2d603cbb"
      },
      "execution_count": null,
      "outputs": [
        {
          "output_type": "stream",
          "name": "stdout",
          "text": [
            "Original Urdu: پیر کے روز، سٹینفورڈ اسکول آف میڈیسن کے سائنسدانوں نے ایک جدید تشخیصی آلہ دریافت کرنے کا اعلان کیا۔\n",
            "Translated English: in late over time , protesters to the major copyright holders ' official bomb open .\n"
          ]
        }
      ]
    },
    {
      "cell_type": "code",
      "source": [
        "#download last checkpoint\n",
        "from google.colab import files\n",
        "files.download('/content/seq2seq_checkpoint_epoch_149.pth')"
      ],
      "metadata": {
        "colab": {
          "base_uri": "https://localhost:8080/",
          "height": 17
        },
        "id": "37hVlYXE5hvv",
        "outputId": "ae9c456f-b237-4e9d-b17e-ba92b80bd793"
      },
      "execution_count": null,
      "outputs": [
        {
          "output_type": "display_data",
          "data": {
            "text/plain": [
              "<IPython.core.display.Javascript object>"
            ],
            "application/javascript": [
              "\n",
              "    async function download(id, filename, size) {\n",
              "      if (!google.colab.kernel.accessAllowed) {\n",
              "        return;\n",
              "      }\n",
              "      const div = document.createElement('div');\n",
              "      const label = document.createElement('label');\n",
              "      label.textContent = `Downloading \"${filename}\": `;\n",
              "      div.appendChild(label);\n",
              "      const progress = document.createElement('progress');\n",
              "      progress.max = size;\n",
              "      div.appendChild(progress);\n",
              "      document.body.appendChild(div);\n",
              "\n",
              "      const buffers = [];\n",
              "      let downloaded = 0;\n",
              "\n",
              "      const channel = await google.colab.kernel.comms.open(id);\n",
              "      // Send a message to notify the kernel that we're ready.\n",
              "      channel.send({})\n",
              "\n",
              "      for await (const message of channel.messages) {\n",
              "        // Send a message to notify the kernel that we're ready.\n",
              "        channel.send({})\n",
              "        if (message.buffers) {\n",
              "          for (const buffer of message.buffers) {\n",
              "            buffers.push(buffer);\n",
              "            downloaded += buffer.byteLength;\n",
              "            progress.value = downloaded;\n",
              "          }\n",
              "        }\n",
              "      }\n",
              "      const blob = new Blob(buffers, {type: 'application/binary'});\n",
              "      const a = document.createElement('a');\n",
              "      a.href = window.URL.createObjectURL(blob);\n",
              "      a.download = filename;\n",
              "      div.appendChild(a);\n",
              "      a.click();\n",
              "      div.remove();\n",
              "    }\n",
              "  "
            ]
          },
          "metadata": {}
        },
        {
          "output_type": "display_data",
          "data": {
            "text/plain": [
              "<IPython.core.display.Javascript object>"
            ],
            "application/javascript": [
              "download(\"download_8967a0d4-c8db-4e00-b550-c2dc791a4fd0\", \"seq2seq_checkpoint_epoch_149.pth\", 111058082)"
            ]
          },
          "metadata": {}
        }
      ]
    },
    {
      "cell_type": "markdown",
      "source": [
        "#Loading model for inference"
      ],
      "metadata": {
        "id": "WM8Tc9mom0UD"
      }
    },
    {
      "cell_type": "code",
      "source": [
        "import torch\n",
        "import torch.nn as nn\n",
        "import torch.optim as optim\n",
        "\n",
        "# File path to the checkpoint\n",
        "checkpoint_path = \"/content/seq2seq_checkpoint_epoch_149 (1).pth\"\n",
        "\n",
        "# Load the checkpoint\n",
        "checkpoint = torch.load(checkpoint_path, \"cpu\")\n",
        "\n",
        "# Restore the English and Urdu embedding layers\n",
        "english_embedding_layer = nn.Embedding.from_pretrained(\n",
        "    torch.tensor(english_embeddings, dtype=torch.float32), freeze=False\n",
        ")\n",
        "urdu_embedding_layer = nn.Embedding.from_pretrained(\n",
        "    torch.tensor(urdu_embeddings, dtype=torch.float32), freeze=False\n",
        ")\n",
        "\n",
        "# Define model architecture parameters\n",
        "hidden_size = 256\n",
        "\n",
        "# Reconstruct the model\n",
        "encoder = Encoder(urdu_embedding_layer, hidden_size)\n",
        "decoder = Decoder(english_embedding_layer, hidden_size, len(checkpoint['english_vocab']))\n",
        "model = Seq2Seq(encoder, decoder)\n",
        "\n",
        "# Load the model's state dict\n",
        "model.load_state_dict(checkpoint['model_state_dict'])\n",
        "model.eval()  # Set to evaluation mode\n",
        "\n",
        "# Move the model to the appropriate device\n",
        "device = torch.device(\"cuda\" if torch.cuda.is_available() else \"cpu\")\n",
        "model.to(device)\n",
        "\n",
        "print(\"Model loaded and ready for inference.\")"
      ],
      "metadata": {
        "colab": {
          "base_uri": "https://localhost:8080/"
        },
        "id": "1twZv5zfmv-A",
        "outputId": "bbc49b29-b5be-4bfa-a294-4f73a1be6f88"
      },
      "execution_count": null,
      "outputs": [
        {
          "output_type": "stream",
          "name": "stderr",
          "text": [
            "<ipython-input-162-6100d7708314>:9: FutureWarning: You are using `torch.load` with `weights_only=False` (the current default value), which uses the default pickle module implicitly. It is possible to construct malicious pickle data which will execute arbitrary code during unpickling (See https://github.com/pytorch/pytorch/blob/main/SECURITY.md#untrusted-models for more details). In a future release, the default value for `weights_only` will be flipped to `True`. This limits the functions that could be executed during unpickling. Arbitrary objects will no longer be allowed to be loaded via this mode unless they are explicitly allowlisted by the user via `torch.serialization.add_safe_globals`. We recommend you start setting `weights_only=True` for any use case where you don't have full control of the loaded file. Please open an issue on GitHub for any issues related to this experimental feature.\n",
            "  checkpoint = torch.load(checkpoint_path, \"cpu\")\n"
          ]
        },
        {
          "output_type": "stream",
          "name": "stdout",
          "text": [
            "LSTM cell with 300 input size and 256 hidden size\n",
            "LSTM cell with 556 input size and 256 hidden size\n",
            "Model loaded and ready for inference.\n"
          ]
        }
      ]
    },
    {
      "cell_type": "markdown",
      "source": [
        "# Bleu Score Evaluation"
      ],
      "metadata": {
        "id": "0ddaSUaVC8_h"
      }
    },
    {
      "cell_type": "code",
      "source": [
        "!apt install perl"
      ],
      "metadata": {
        "colab": {
          "base_uri": "https://localhost:8080/"
        },
        "id": "CXvgJMehkw-o",
        "outputId": "1c9347a5-6ef8-4792-89c7-671320ba28ac",
        "collapsed": true
      },
      "execution_count": null,
      "outputs": [
        {
          "output_type": "stream",
          "name": "stdout",
          "text": [
            "Reading package lists... Done\n",
            "Building dependency tree... Done\n",
            "Reading state information... Done\n",
            "The following additional packages will be installed:\n",
            "  libperl5.34 perl-base perl-modules-5.34\n",
            "Suggested packages:\n",
            "  perl-doc libterm-readline-gnu-perl | libterm-readline-perl-perl libtap-harness-archive-perl\n",
            "Recommended packages:\n",
            "  netbase\n",
            "The following packages will be upgraded:\n",
            "  libperl5.34 perl perl-base perl-modules-5.34\n",
            "4 upgraded, 0 newly installed, 0 to remove and 45 not upgraded.\n",
            "Need to get 9,790 kB of archives.\n",
            "After this operation, 8,192 B of additional disk space will be used.\n",
            "Get:1 http://archive.ubuntu.com/ubuntu jammy-updates/main amd64 libperl5.34 amd64 5.34.0-3ubuntu1.3 [4,820 kB]\n",
            "Get:2 http://archive.ubuntu.com/ubuntu jammy-updates/main amd64 perl amd64 5.34.0-3ubuntu1.3 [232 kB]\n",
            "Get:3 http://archive.ubuntu.com/ubuntu jammy-updates/main amd64 perl-base amd64 5.34.0-3ubuntu1.3 [1,762 kB]\n",
            "Get:4 http://archive.ubuntu.com/ubuntu jammy-updates/main amd64 perl-modules-5.34 all 5.34.0-3ubuntu1.3 [2,976 kB]\n",
            "Fetched 9,790 kB in 1s (9,017 kB/s)\n",
            "(Reading database ... 123632 files and directories currently installed.)\n",
            "Preparing to unpack .../libperl5.34_5.34.0-3ubuntu1.3_amd64.deb ...\n",
            "Unpacking libperl5.34:amd64 (5.34.0-3ubuntu1.3) over (5.34.0-3ubuntu1.2) ...\n",
            "Preparing to unpack .../perl_5.34.0-3ubuntu1.3_amd64.deb ...\n",
            "Unpacking perl (5.34.0-3ubuntu1.3) over (5.34.0-3ubuntu1.2) ...\n",
            "Preparing to unpack .../perl-base_5.34.0-3ubuntu1.3_amd64.deb ...\n",
            "Unpacking perl-base (5.34.0-3ubuntu1.3) over (5.34.0-3ubuntu1.2) ...\n",
            "Setting up perl-base (5.34.0-3ubuntu1.3) ...\n",
            "(Reading database ... 123632 files and directories currently installed.)\n",
            "Preparing to unpack .../perl-modules-5.34_5.34.0-3ubuntu1.3_all.deb ...\n",
            "Unpacking perl-modules-5.34 (5.34.0-3ubuntu1.3) over (5.34.0-3ubuntu1.2) ...\n",
            "Setting up perl-modules-5.34 (5.34.0-3ubuntu1.3) ...\n",
            "Setting up libperl5.34:amd64 (5.34.0-3ubuntu1.3) ...\n",
            "Setting up perl (5.34.0-3ubuntu1.3) ...\n",
            "Processing triggers for man-db (2.10.2-1) ...\n",
            "Processing triggers for libc-bin (2.35-0ubuntu3.4) ...\n",
            "/sbin/ldconfig.real: /usr/local/lib/libtbb.so.12 is not a symbolic link\n",
            "\n",
            "/sbin/ldconfig.real: /usr/local/lib/libtcm.so.1 is not a symbolic link\n",
            "\n",
            "/sbin/ldconfig.real: /usr/local/lib/libtbbmalloc_proxy.so.2 is not a symbolic link\n",
            "\n",
            "/sbin/ldconfig.real: /usr/local/lib/libhwloc.so.15 is not a symbolic link\n",
            "\n",
            "/sbin/ldconfig.real: /usr/local/lib/libtbbmalloc.so.2 is not a symbolic link\n",
            "\n",
            "/sbin/ldconfig.real: /usr/local/lib/libur_adapter_level_zero.so.0 is not a symbolic link\n",
            "\n",
            "/sbin/ldconfig.real: /usr/local/lib/libtbbbind_2_5.so.3 is not a symbolic link\n",
            "\n",
            "/sbin/ldconfig.real: /usr/local/lib/libtcm_debug.so.1 is not a symbolic link\n",
            "\n",
            "/sbin/ldconfig.real: /usr/local/lib/libumf.so.0 is not a symbolic link\n",
            "\n",
            "/sbin/ldconfig.real: /usr/local/lib/libtbbbind_2_0.so.3 is not a symbolic link\n",
            "\n",
            "/sbin/ldconfig.real: /usr/local/lib/libtbbbind.so.3 is not a symbolic link\n",
            "\n",
            "/sbin/ldconfig.real: /usr/local/lib/libur_adapter_opencl.so.0 is not a symbolic link\n",
            "\n",
            "/sbin/ldconfig.real: /usr/local/lib/libur_loader.so.0 is not a symbolic link\n",
            "\n"
          ]
        }
      ]
    },
    {
      "cell_type": "code",
      "source": [
        "predictions_file = \"predictions.txt\"\n",
        "references_file = \"reference.txt\"\n",
        "\n",
        "# Ensure model is in evaluation mode\n",
        "model.eval()\n",
        "\n",
        "# Map indices to words for the English vocabulary\n",
        "idx_to_word_eng = {idx: word for word, idx in english_vocab.items()}\n",
        "\n",
        "# Open files for writing\n",
        "with open(predictions_file, \"w\") as pred_file, open(references_file, \"w\") as ref_file:\n",
        "    for i in range(len(test_urdu)):\n",
        "        # Prepare input tensor for the test Urdu sentence\n",
        "        input_tensor = test_urdu[i].unsqueeze(0).to(next(model.parameters()).device)\n",
        "        reference_tensor = test_eng[i]\n",
        "\n",
        "        # Generate translation using the updated translation function\n",
        "        predicted_translation = translate(model, input_tensor, urdu_vocab, english_vocab)\n",
        "\n",
        "        # Convert the reference tensor to words\n",
        "        reference_translation = \" \".join([\n",
        "            idx_to_word_eng.get(idx, \"<UNK>\")\n",
        "            for idx in reference_tensor.tolist()\n",
        "            if idx not in [english_vocab[\"<PAD>\"], english_vocab[\"<SOS>\"], english_vocab[\"<EOS>\"]]\n",
        "        ])\n",
        "\n",
        "        # Write predicted and reference translations to respective files\n",
        "        pred_file.write(predicted_translation + \"\\n\")\n",
        "        ref_file.write(reference_translation + \"\\n\")\n",
        "\n",
        "print(f\"Predictions saved to {predictions_file}\")\n",
        "print(f\"References saved to {references_file}\")\n"
      ],
      "metadata": {
        "colab": {
          "base_uri": "https://localhost:8080/"
        },
        "id": "d5qy0bFgaNTZ",
        "outputId": "0f5341a7-4bde-42c3-90e2-f5474dac8460"
      },
      "execution_count": null,
      "outputs": [
        {
          "output_type": "stream",
          "name": "stdout",
          "text": [
            "Predictions saved to predictions.txt\n",
            "References saved to reference.txt\n"
          ]
        }
      ]
    },
    {
      "cell_type": "code",
      "source": [
        "!perl multi-bleu.perl reference.txt < predictions.txt"
      ],
      "metadata": {
        "id": "MgRsstEqHs74",
        "colab": {
          "base_uri": "https://localhost:8080/"
        },
        "outputId": "a87c6428-03f2-4e3d-a038-388a7779ed30"
      },
      "execution_count": null,
      "outputs": [
        {
          "output_type": "stream",
          "name": "stdout",
          "text": [
            "BLEU = 0.45, 21.2/1.4/0.1/0.0 (BP=0.950, ratio=0.951, hyp_len=7039, ref_len=7399)\n",
            "It is not advisable to publish scores from multi-bleu.perl.  The scores depend on your tokenizer, which is unlikely to be reproducible from your paper or consistent across research groups.  Instead you should detokenize then use mteval-v14.pl, which has a standard tokenization.  Scores from multi-bleu.perl can still be used for internal purposes when you have a consistent tokenizer.\n"
          ]
        }
      ]
    },
    {
      "cell_type": "markdown",
      "source": [
        "#Try with scrableu"
      ],
      "metadata": {
        "id": "pVasjfy4k3yM"
      }
    },
    {
      "cell_type": "code",
      "source": [
        "!pip install sacrebleu\n",
        "import sacrebleu\n",
        "\n",
        "# Read the reference file (each line corresponds to one reference translation)\n",
        "with open(\"reference.txt\", \"r\", encoding=\"utf-8\") as ref_file:\n",
        "    references = [line.strip() for line in ref_file]\n",
        "\n",
        "# Read the predictions file (each line corresponds to one predicted translation)\n",
        "with open(\"predictions.txt\", \"r\", encoding=\"utf-8\") as pred_file:\n",
        "    predictions = [line.strip() for line in pred_file]\n",
        "\n",
        "# Make sure the number of predictions matches the number of references\n",
        "assert len(predictions) == len(references), \"Mismatch in number of predictions and references!\"\n",
        "\n",
        "# SacreBLEU requires references to be a list of lists (one list per reference set)\n",
        "references = [references]  # Wrap references in another list for SacreBLEU\n",
        "\n",
        "# Calculate BLEU score\n",
        "bleu = sacrebleu.corpus_bleu(predictions, references)\n",
        "\n",
        "print(f\"SacreBLEU score: {bleu.score:.2f}\")"
      ],
      "metadata": {
        "colab": {
          "base_uri": "https://localhost:8080/"
        },
        "id": "ahXAAePKcL_S",
        "outputId": "c8e00a53-0b74-43ee-e3b2-44064831cb6c"
      },
      "execution_count": null,
      "outputs": [
        {
          "output_type": "stream",
          "name": "stdout",
          "text": [
            "Requirement already satisfied: sacrebleu in /usr/local/lib/python3.10/dist-packages (2.4.3)\n",
            "Requirement already satisfied: portalocker in /usr/local/lib/python3.10/dist-packages (from sacrebleu) (3.0.0)\n",
            "Requirement already satisfied: regex in /usr/local/lib/python3.10/dist-packages (from sacrebleu) (2024.9.11)\n",
            "Requirement already satisfied: tabulate>=0.8.9 in /usr/local/lib/python3.10/dist-packages (from sacrebleu) (0.9.0)\n",
            "Requirement already satisfied: numpy>=1.17 in /usr/local/lib/python3.10/dist-packages (from sacrebleu) (1.26.4)\n",
            "Requirement already satisfied: colorama in /usr/local/lib/python3.10/dist-packages (from sacrebleu) (0.4.6)\n",
            "Requirement already satisfied: lxml in /usr/local/lib/python3.10/dist-packages (from sacrebleu) (5.3.0)\n"
          ]
        },
        {
          "output_type": "stream",
          "name": "stderr",
          "text": [
            "WARNING:sacrebleu:That's 100 lines that end in a tokenized period ('.')\n",
            "WARNING:sacrebleu:It looks like you forgot to detokenize your test data, which may hurt your score.\n",
            "WARNING:sacrebleu:If you insist your data is detokenized, or don't care, you can suppress this message with the `force` parameter.\n"
          ]
        },
        {
          "output_type": "stream",
          "name": "stdout",
          "text": [
            "SacreBLEU score: 0.46\n"
          ]
        }
      ]
    },
    {
      "cell_type": "markdown",
      "source": [
        "#Results"
      ],
      "metadata": {
        "id": "MF8G6RjFprnJ"
      }
    },
    {
      "cell_type": "markdown",
      "source": [
        "- **Training Loss:** 0.0569 (at Epoch 150)\n",
        "- **Validation Loss:** 12.2101\n",
        "- **Validation BLEU Score:** 0.36\n",
        "- **Test Loss:** 12.1289\n",
        "- **Test BLEU Score:** 0.46\n"
      ],
      "metadata": {
        "id": "2kqLNw5Cu1sI"
      }
    },
    {
      "cell_type": "markdown",
      "source": [
        "|       Metric      | Training Set | Validation Set | Test Set |\n",
        "|--------------------|--------------|----------------|----------|\n",
        "| Loss              | 0.0569       | 12.2046        | 12.0811  |\n",
        "| BLEU Score        | 0.45          | 0.3600         | 0.4600   |\n"
      ],
      "metadata": {
        "id": "yqe9O5p1wPyN"
      }
    },
    {
      "cell_type": "code",
      "source": [
        "model.eval()\n",
        "val_loss = 0.0\n",
        "val_predictions = []\n",
        "val_references = []\n",
        "\n",
        "hidden_size =256\n",
        "BATCH_SIZE=32\n",
        "# Create DataLoader for validation set\n",
        "dataset = TensorDataset(val_urdu, val_eng)\n",
        "val_loader = DataLoader(dataset, batch_size=BATCH_SIZE, shuffle=True)\n",
        "\n",
        "for src, tgt in val_loader:\n",
        "    src, tgt = src.to(device), tgt.to(device)\n",
        "\n",
        "    # Forward pass\n",
        "    outputs = model(src, tgt)\n",
        "    output = outputs[:, 1:].reshape(-1, outputs.shape[2])  # Flattened predictions\n",
        "    reshaped_tgt = tgt[:, 1:].reshape(-1)  # Flattened targets\n",
        "\n",
        "    # Compute loss\n",
        "    loss = criterion(output, reshaped_tgt)\n",
        "    val_loss += loss.item()\n",
        "    #print loss\n",
        "    print(f\"Validation Loss: {val_loss / len(val_loader):.4f}\")\n",
        "\n",
        "    # Store predictions and references for BLEU\n",
        "    for i in range(src.size(0)):\n",
        "        # Predicted translation\n",
        "        predicted_translation = translate(\n",
        "            model, src[i].unsqueeze(0).to(next(model.parameters()).device), urdu_vocab, english_vocab\n",
        "        )\n",
        "        val_predictions.append(predicted_translation)\n",
        "\n",
        "        reference_translation = \" \".join([\n",
        "            idx_to_word_eng.get(idx, \"<UNK>\")\n",
        "            for idx in tgt[i, 1:].tolist()\n",
        "            if idx not in [english_vocab[\"<PAD>\"], english_vocab[\"<SOS>\"], english_vocab[\"<EOS>\"]]\n",
        "        ])\n",
        "        val_references.append(reference_translation)\n",
        "\n",
        "# Compute BLEU score\n",
        "val_bleu = sacrebleu.corpus_bleu(val_predictions, [val_references])\n",
        "print(f\"Validation Loss: {val_loss / len(val_loader):.4f}\")\n",
        "print(f\"Validation BLEU Score: {val_bleu.score:.2f}\")"
      ],
      "metadata": {
        "colab": {
          "base_uri": "https://localhost:8080/"
        },
        "id": "hMhH2GCMoXu_",
        "outputId": "77fba804-36a8-435c-9fb1-7d97f4639e09"
      },
      "execution_count": null,
      "outputs": [
        {
          "output_type": "stream",
          "name": "stdout",
          "text": [
            "Validation Loss: 1.2197\n",
            "Validation Loss: 2.4558\n",
            "Validation Loss: 3.6753\n",
            "Validation Loss: 4.8987\n",
            "Validation Loss: 6.0703\n",
            "Validation Loss: 7.2800\n",
            "Validation Loss: 8.4964\n",
            "Validation Loss: 9.7649\n",
            "Validation Loss: 10.9703\n",
            "Validation Loss: 12.1458\n"
          ]
        },
        {
          "output_type": "stream",
          "name": "stderr",
          "text": [
            "WARNING:sacrebleu:That's 100 lines that end in a tokenized period ('.')\n",
            "WARNING:sacrebleu:It looks like you forgot to detokenize your test data, which may hurt your score.\n",
            "WARNING:sacrebleu:If you insist your data is detokenized, or don't care, you can suppress this message with the `force` parameter.\n"
          ]
        },
        {
          "output_type": "stream",
          "name": "stdout",
          "text": [
            "Validation Loss: 12.1458\n",
            "Validation BLEU Score: 0.36\n"
          ]
        }
      ]
    },
    {
      "cell_type": "code",
      "source": [
        "model.eval()\n",
        "val_loss = 0.0\n",
        "val_predictions = []\n",
        "val_references = []\n",
        "\n",
        "hidden_size =256\n",
        "BATCH_SIZE=32\n",
        "# Create DataLoader for test set\n",
        "dataset = TensorDataset(test_urdu, test_eng)\n",
        "val_loader = DataLoader(dataset, batch_size=BATCH_SIZE, shuffle=True)\n",
        "\n",
        "\n",
        "for src, tgt in val_loader:\n",
        "    src, tgt = src.to(device), tgt.to(device)\n",
        "\n",
        "    # Forward pass\n",
        "    outputs = model(src, tgt)\n",
        "    output = outputs[:, 1:].reshape(-1, outputs.shape[2])  # Flattened predictions\n",
        "    reshaped_tgt = tgt[:, 1:].reshape(-1)  # Flattened targets\n",
        "\n",
        "    # Compute loss\n",
        "    loss = criterion(output, reshaped_tgt)\n",
        "    val_loss += loss.item()\n",
        "    print(f\"Test Loss: {val_loss / len(val_loader):.4f}\")\n",
        "\n",
        "    # Store predictions and references for BLEU\n",
        "    for i in range(src.size(0)):\n",
        "        # Predicted translation\n",
        "        predicted_translation = translate(\n",
        "            model, src[i].unsqueeze(0), urdu_vocab, english_vocab\n",
        "        )\n",
        "        val_predictions.append(predicted_translation)\n",
        "\n",
        "        reference_translation = \" \".join([\n",
        "            idx_to_word_eng.get(idx, \"<UNK>\")\n",
        "            for idx in tgt[i, 1:].tolist()\n",
        "            if idx not in [english_vocab[\"<PAD>\"], english_vocab[\"<SOS>\"], english_vocab[\"<EOS>\"]]\n",
        "        ])\n",
        "        val_references.append(reference_translation)\n",
        "\n",
        "# Compute BLEU score\n",
        "val_bleu = sacrebleu.corpus_bleu(val_predictions, [val_references])\n",
        "print(f\"Test Loss: {val_loss / len(val_loader):.4f}\")\n",
        "print(f\"Test BLEU Score: {val_bleu.score:.2f}\")"
      ],
      "metadata": {
        "colab": {
          "base_uri": "https://localhost:8080/"
        },
        "id": "_7eYPF0mq5b1",
        "outputId": "4917f5e6-e819-4bc3-d88b-5c08f1bb84dd"
      },
      "execution_count": null,
      "outputs": [
        {
          "output_type": "stream",
          "name": "stdout",
          "text": [
            "Test Loss: 1.2579\n",
            "Test Loss: 2.4846\n",
            "Test Loss: 3.6419\n",
            "Test Loss: 4.8117\n",
            "Test Loss: 6.0655\n",
            "Test Loss: 7.3339\n",
            "Test Loss: 8.5256\n",
            "Test Loss: 9.7349\n",
            "Test Loss: 10.9922\n",
            "Test Loss: 12.1950\n"
          ]
        },
        {
          "output_type": "stream",
          "name": "stderr",
          "text": [
            "WARNING:sacrebleu:That's 100 lines that end in a tokenized period ('.')\n",
            "WARNING:sacrebleu:It looks like you forgot to detokenize your test data, which may hurt your score.\n",
            "WARNING:sacrebleu:If you insist your data is detokenized, or don't care, you can suppress this message with the `force` parameter.\n"
          ]
        },
        {
          "output_type": "stream",
          "name": "stdout",
          "text": [
            "Test Loss: 12.1950\n",
            "Test BLEU Score: 0.46\n"
          ]
        }
      ]
    },
    {
      "cell_type": "code",
      "source": [
        "import matplotlib.pyplot as plt\n",
        "import pandas as pd\n",
        "!pip install ace_tools\n",
        "\n",
        "# Data for training, validation, and test sets\n",
        "epochs = list(range(125, 151))\n",
        "train_losses = [\n",
        "    0.2245, 0.2089, 0.2036, 0.1881, 0.1876, 0.1724, 0.1649, 0.1519, 0.1413,\n",
        "    0.1308, 0.1256, 0.1224, 0.1171, 0.1152, 0.1146, 0.1046, 0.0959, 0.0915,\n",
        "    0.0844, 0.0782, 0.0733, 0.0697, 0.0658, 0.0627, 0.0593, 0.0569\n",
        "]\n",
        "\n",
        "val_losses = [\n",
        "    1.2414, 2.4494, 3.7455, 4.9628, 6.1793, 7.4079, 8.6252, 9.8199, 10.9711,\n",
        "    12.2046, 12.2046, 12.2046, 12.2046, 12.2046, 12.2046, 12.2046, 12.2046,\n",
        "    12.2046, 12.2046, 12.2046, 12.2046, 12.2046, 12.2046, 12.2046, 12.2046, 12.2046\n",
        "]\n",
        "\n",
        "test_losses = [\n",
        "    1.2062, 2.3623, 3.5896, 4.7601, 5.9464, 7.1562, 8.4032, 9.6444, 10.8664,\n",
        "    12.0811, 12.0811, 12.0811, 12.0811, 12.0811, 12.0811, 12.0811, 12.0811,\n",
        "    12.0811, 12.0811, 12.0811, 12.0811, 12.0811, 12.0811, 12.0811, 12.0811, 12.0811\n",
        "]\n",
        "\n",
        "val_bleu_score = 0.36\n",
        "test_bleu_score = 0.46\n",
        "\n",
        "# Plot Training and Validation Loss\n",
        "plt.figure(figsize=(10, 5))\n",
        "plt.plot(epochs, train_losses, label='Training Loss')\n",
        "plt.plot(epochs, val_losses[:len(epochs)], label='Validation Loss')\n",
        "plt.xlabel('Epoch')\n",
        "plt.ylabel('Loss')\n",
        "plt.title('Training and Validation Loss over Epochs')\n",
        "plt.legend()\n",
        "plt.grid()\n",
        "plt.show()\n",
        "\n",
        "# Plot Test Loss\n",
        "plt.figure(figsize=(10, 5))\n",
        "plt.plot(epochs, test_losses[:len(epochs)], label='Test Loss', color='orange')\n",
        "plt.xlabel('Epoch')\n",
        "plt.ylabel('Loss')\n",
        "plt.title('Test Loss over Epochs')\n",
        "plt.legend()\n",
        "plt.grid()\n",
        "plt.show()\n",
        "\n",
        "# Results table\n",
        "data = {\n",
        "    \"Metric\": [\"Loss\", \"BLEU Score\"],\n",
        "    \"Training Set\": [train_losses[-1], \"N/A\"],\n",
        "    \"Validation Set\": [val_losses[-1], val_bleu_score],\n",
        "    \"Test Set\": [test_losses[-1], test_bleu_score],\n",
        "}\n",
        "results_df = pd.DataFrame(data)\n",
        "print(\"Results Table:\")\n",
        "print(results_df)\n"
      ],
      "metadata": {
        "colab": {
          "base_uri": "https://localhost:8080/",
          "height": 1000
        },
        "id": "aZy1SqsisL4D",
        "outputId": "06041d09-2f15-4658-bee0-b4ff52c79aef"
      },
      "execution_count": null,
      "outputs": [
        {
          "output_type": "stream",
          "name": "stdout",
          "text": [
            "Requirement already satisfied: ace_tools in /usr/local/lib/python3.10/dist-packages (0.0)\n"
          ]
        },
        {
          "output_type": "display_data",
          "data": {
            "text/plain": [
              "<Figure size 1000x500 with 1 Axes>"
            ],
            "image/png": "[encoded data removed]"
          },
          "metadata": {}
        },
        {
          "output_type": "display_data",
          "data": {
            "text/plain": [
              "<Figure size 1000x500 with 1 Axes>"
            ],
            "image/png": "[encoded data removed]"
          },
          "metadata": {}
        },
        {
          "output_type": "stream",
          "name": "stdout",
          "text": [
            "Results Table:\n",
            "       Metric Training Set  Validation Set  Test Set\n",
            "0        Loss       0.0569         12.2046   12.0811\n",
            "1  BLEU Score          N/A          0.3600    0.4600\n"
          ]
        }
      ]
    },
    {
      "cell_type": "code",
      "source": [],
      "metadata": {
        "id": "qQZR0yW-wQWR"
      },
      "execution_count": null,
      "outputs": []
    }
  ]
}